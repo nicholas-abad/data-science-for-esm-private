{
 "cells": [
  {
   "cell_type": "markdown",
   "metadata": {},
   "source": [
    "# Capacity Expansion Planning with `pypsa`"
   ]
  },
  {
   "cell_type": "markdown",
   "metadata": {},
   "source": [
    "<img src=\"https://github.com/fneum/data-science-for-esm/raw/main/data-science-for-esm/pypsa-logo.png\" width=\"300px\" />"
   ]
  },
  {
   "cell_type": "markdown",
   "metadata": {},
   "source": [
    ":::{note}\n",
    "Also in this tutorial, you might want to refer to the PyPSA documentation: https://pypsa.readthedocs.io.\n",
    ":::"
   ]
  },
  {
   "cell_type": "markdown",
   "metadata": {
    "tags": []
   },
   "source": [
    "## From electricity market modelling to capacity expansion planning\n",
    "\n",
    "Review the problem formulation of the electricity market model. Below you can find an adapted version\n",
    "where the capacity limits have been promoted to **decision variables** with corresponding terms\n",
    "in the *objective function* and *new constraints for their expansion limits* (e.g. wind and solar potentials). This is known as **capacity expansion problem**.\n",
    "\n",
    "\\begin{equation*}\n",
    "    \\min_{g,e,f,G,E,F} \\quad \\sum_{i,s,t} w_t o_{s} g_{i,s,t} + \\sum_{i,s} c_sG_{i,s}  + c_{r,\\text{dis/charge}}G_{i,r, \\text{dis/charge}} +   c_{r}E_{i,r}  + c_\\ell F_{\\ell}\n",
    "  \\end{equation*}\n",
    "such that\n",
    "  \\begin{align*}\n",
    "    d_{i,t} &= \\sum_s g_{i,s,t}  - \\sum_\\ell K_{i\\ell} f_{\\ell,t}   & \\text{energy balance} \\\\\n",
    "    0 &\\leq g_{i,s,t} \\leq \\hat{g}_{i,s,t} G_{i,s} & \\text{generator limits}\\\\\n",
    "    0 & \\leq g_{i,r,t,\\text{dis/charge}} \\leq G_{i,r,\\text{dis/charge}}& \\text{storage dis/charge limits} \\\\\n",
    "    0 & \\leq e_{i,r,t} \\leq E_{r} & \\text{storage energy limits} \\\\ \n",
    "    e_{i,r,t} &= \\eta^0_{i,r,t} e_{i,r,t-1} + \\eta^1_{r}g_{i,r,t,\\text{charge}} -  \\frac{1}{\\eta^2_{r}} g_{i,r,t,\\text{discharge}} & \\text{storage consistency} \\\\\n",
    "    -F_\\ell &\\leq f_{\\ell,t} \\leq F_\\ell  & \\text{line limits} \\\\\n",
    "    0 &= \\sum_\\ell C_{\\ell c} x_\\ell f_{\\ell,t} & \\text{KVL} \\\\\n",
    "        \\underline{G}_{i,s} & \\leq G_{i,s} \\leq \\overline{G}_{i,s} & \\text{generator capacity expansion limits} \\\\\n",
    "    \\underline{G}_{i,r, \\text{dis/charge}} & \\leq G_{i,r, \\text{dis/charge}} \\leq \\overline{G}_{i,r, \\text{dis/charge}} & \\text{storage power capacity expansion limits} \\\\\n",
    "    \\underline{E}_{i,r} & \\leq E_{i,r} \\leq \\overline{E}_{i,r} & \\text{storage energy expansion limits} \\\\\n",
    "    \\underline{F}_{\\ell} & \\leq F_{\\ell} \\leq \\overline{F}_{\\ell} & \\text{line capacity expansion limits}\n",
    "  \\end{align*}\n",
    "\n",
    "**New decision variables for capacity expansion planning:**\n",
    "\n",
    "- $G_{i,s}$ is the generator capacity at bus $i$, technology $s$,\n",
    "- $F_{\\ell}$ is the transmission capacity of line $\\ell$,\n",
    "- $G_{i,r,\\text{dis-/charge}}$ denotes the charge and discharge capacities of storage unit $r$ at bus $i$,\n",
    "- $E_{i,r}$ is the energy capacity of storage $r$ at bus $i$ and time step $t$.\n",
    "\n",
    "**New parameters for capacity expansion planning:**\n",
    "\n",
    "- $c_{\\star}$ is the capital cost of technology $\\star$ at bus $i$\n",
    "- $w_t$ is the weighting of time step $t$ (e.g. number of hours it represents)\n",
    "- $\\underline{G}_\\star, \\underline{F}_\\star, \\underline{E}_\\star$ are the minimum capacities per technology and location/connection.\n",
    "- $\\underline{G}_\\star, \\underline{F}_\\star, \\underline{E}_\\star$ are the maximum capacities per technology and location.\n",
    "\n",
    ":::{note}\n",
    "For a full reference to the optimisation problem description, see https://pypsa.readthedocs.io/en/latest/optimal_power_flow.html\n",
    ":::\n"
   ]
  },
  {
   "cell_type": "markdown",
   "metadata": {},
   "source": [
    "\n",
    ":::{note}\n",
    "If you have not yet set up Python on your computer, you can execute this tutorial in your browser via [Google Colab](https://colab.research.google.com/). Click on the rocket in the top right corner and launch \"Colab\". If that doesn't work download the `.ipynb` file and import it in [Google Colab](https://colab.research.google.com/).\n",
    "\n",
    "Then install the following packages by executing the following command in a Jupyter cell at the top of the notebook.\n",
    "\n",
    "```sh\n",
    "!pip install pypsa pandas matplotlib highspy\n",
    "```\n",
    ":::"
   ]
  },
  {
   "cell_type": "markdown",
   "metadata": {
    "tags": []
   },
   "source": [
    "First things first! We need a few packages for this tutorial:"
   ]
  },
  {
   "cell_type": "code",
   "execution_count": 73,
   "metadata": {
    "jp-MarkdownHeadingCollapsed": true,
    "tags": []
   },
   "outputs": [],
   "source": [
    "import pypsa\n",
    "import pandas as pd\n",
    "import matplotlib.pyplot as plt\n",
    "\n",
    "plt.style.use(\"bmh\")"
   ]
  },
  {
   "cell_type": "markdown",
   "metadata": {
    "tags": []
   },
   "source": [
    "## Prerequisites: handling technology data and costs"
   ]
  },
  {
   "cell_type": "markdown",
   "metadata": {},
   "source": [
    "We maintain a database (https://github.com/PyPSA/technology-data) which collects assumptions and projections for energy system technologies (such as costs, efficiencies, lifetimes, etc.) for given years, which we can load into a `pandas.DataFrame`. This requires some pre-processing to load (e.g. converting units, setting defaults, re-arranging dimensions):"
   ]
  },
  {
   "cell_type": "code",
   "execution_count": 80,
   "metadata": {},
   "outputs": [],
   "source": [
    "year = 2030\n",
    "url = f\"https://raw.githubusercontent.com/PyPSA/technology-data/master/outputs/costs_{year}.csv\"\n",
    "costs = pd.read_csv(url, index_col=[0, 1])"
   ]
  },
  {
   "cell_type": "code",
   "execution_count": 81,
   "metadata": {},
   "outputs": [
    {
     "data": {
      "text/html": [
       "<div>\n",
       "<style scoped>\n",
       "    .dataframe tbody tr th:only-of-type {\n",
       "        vertical-align: middle;\n",
       "    }\n",
       "\n",
       "    .dataframe tbody tr th {\n",
       "        vertical-align: top;\n",
       "    }\n",
       "\n",
       "    .dataframe thead th {\n",
       "        text-align: right;\n",
       "    }\n",
       "</style>\n",
       "<table border=\"1\" class=\"dataframe\">\n",
       "  <thead>\n",
       "    <tr style=\"text-align: right;\">\n",
       "      <th></th>\n",
       "      <th></th>\n",
       "      <th>value</th>\n",
       "      <th>unit</th>\n",
       "      <th>source</th>\n",
       "      <th>further description</th>\n",
       "    </tr>\n",
       "    <tr>\n",
       "      <th>technology</th>\n",
       "      <th>parameter</th>\n",
       "      <th></th>\n",
       "      <th></th>\n",
       "      <th></th>\n",
       "      <th></th>\n",
       "    </tr>\n",
       "  </thead>\n",
       "  <tbody>\n",
       "    <tr>\n",
       "      <th rowspan=\"4\" valign=\"top\">Ammonia cracker</th>\n",
       "      <th>FOM</th>\n",
       "      <td>4.300000e+00</td>\n",
       "      <td>%/year</td>\n",
       "      <td>Ishimoto et al. (2020): 10.1016/j.ijhydene.202...</td>\n",
       "      <td>Estimated based on Labour cost rate, Maintenan...</td>\n",
       "    </tr>\n",
       "    <tr>\n",
       "      <th>ammonia-input</th>\n",
       "      <td>1.460000e+00</td>\n",
       "      <td>MWh_NH3/MWh_H2</td>\n",
       "      <td>ENGIE et al (2020): Ammonia to Green Hydrogen ...</td>\n",
       "      <td>Assuming a integrated 200t/d cracking and puri...</td>\n",
       "    </tr>\n",
       "    <tr>\n",
       "      <th>investment</th>\n",
       "      <td>1.062108e+06</td>\n",
       "      <td>EUR/MW_H2</td>\n",
       "      <td>Ishimoto et al. (2020): 10.1016/j.ijhydene.202...</td>\n",
       "      <td>Calculated. For a small (200 t_NH3/d input) fa...</td>\n",
       "    </tr>\n",
       "    <tr>\n",
       "      <th>lifetime</th>\n",
       "      <td>2.500000e+01</td>\n",
       "      <td>years</td>\n",
       "      <td>Ishimoto et al. (2020): 10.1016/j.ijhydene.202...</td>\n",
       "      <td>NaN</td>\n",
       "    </tr>\n",
       "    <tr>\n",
       "      <th>Battery electric (passenger cars)</th>\n",
       "      <th>FOM</th>\n",
       "      <td>9.000000e-01</td>\n",
       "      <td>%</td>\n",
       "      <td>PATHS TO A CLIMATE-NEUTRAL ENERGY SYSTEM The G...</td>\n",
       "      <td>Battery electric (passenger cars)</td>\n",
       "    </tr>\n",
       "    <tr>\n",
       "      <th>...</th>\n",
       "      <th>...</th>\n",
       "      <td>...</td>\n",
       "      <td>...</td>\n",
       "      <td>...</td>\n",
       "      <td>...</td>\n",
       "    </tr>\n",
       "    <tr>\n",
       "      <th rowspan=\"3\" valign=\"top\">waste CHP CC</th>\n",
       "      <th>efficiency-heat</th>\n",
       "      <td>7.619000e-01</td>\n",
       "      <td>per unit</td>\n",
       "      <td>Danish Energy Agency, technology_data_for_el_a...</td>\n",
       "      <td>08 WtE CHP, Large, 50 degree:  Heat efficiency...</td>\n",
       "    </tr>\n",
       "    <tr>\n",
       "      <th>investment</th>\n",
       "      <td>8.110394e+03</td>\n",
       "      <td>EUR/kW_e</td>\n",
       "      <td>Danish Energy Agency, technology_data_for_el_a...</td>\n",
       "      <td>08 WtE CHP, Large, 50 degree:  Nominal investm...</td>\n",
       "    </tr>\n",
       "    <tr>\n",
       "      <th>lifetime</th>\n",
       "      <td>2.500000e+01</td>\n",
       "      <td>years</td>\n",
       "      <td>Danish Energy Agency, technology_data_for_el_a...</td>\n",
       "      <td>08 WtE CHP, Large, 50 degree:  Technical lifetime</td>\n",
       "    </tr>\n",
       "    <tr>\n",
       "      <th>water tank charger</th>\n",
       "      <th>efficiency</th>\n",
       "      <td>8.367000e-01</td>\n",
       "      <td>per unit</td>\n",
       "      <td>Danish Energy Agency, technology_data_catalogu...</td>\n",
       "      <td>:  efficiency from sqr(Round trip efficiency)</td>\n",
       "    </tr>\n",
       "    <tr>\n",
       "      <th>water tank discharger</th>\n",
       "      <th>efficiency</th>\n",
       "      <td>8.367000e-01</td>\n",
       "      <td>per unit</td>\n",
       "      <td>Danish Energy Agency, technology_data_catalogu...</td>\n",
       "      <td>:  efficiency from sqr(Round trip efficiency)</td>\n",
       "    </tr>\n",
       "  </tbody>\n",
       "</table>\n",
       "<p>913 rows × 4 columns</p>\n",
       "</div>"
      ],
      "text/plain": [
       "                                                          value  \\\n",
       "technology                        parameter                       \n",
       "Ammonia cracker                   FOM              4.300000e+00   \n",
       "                                  ammonia-input    1.460000e+00   \n",
       "                                  investment       1.062108e+06   \n",
       "                                  lifetime         2.500000e+01   \n",
       "Battery electric (passenger cars) FOM              9.000000e-01   \n",
       "...                                                         ...   \n",
       "waste CHP CC                      efficiency-heat  7.619000e-01   \n",
       "                                  investment       8.110394e+03   \n",
       "                                  lifetime         2.500000e+01   \n",
       "water tank charger                efficiency       8.367000e-01   \n",
       "water tank discharger             efficiency       8.367000e-01   \n",
       "\n",
       "                                                             unit  \\\n",
       "technology                        parameter                         \n",
       "Ammonia cracker                   FOM                      %/year   \n",
       "                                  ammonia-input    MWh_NH3/MWh_H2   \n",
       "                                  investment            EUR/MW_H2   \n",
       "                                  lifetime                  years   \n",
       "Battery electric (passenger cars) FOM                           %   \n",
       "...                                                           ...   \n",
       "waste CHP CC                      efficiency-heat        per unit   \n",
       "                                  investment             EUR/kW_e   \n",
       "                                  lifetime                  years   \n",
       "water tank charger                efficiency             per unit   \n",
       "water tank discharger             efficiency             per unit   \n",
       "\n",
       "                                                                                              source  \\\n",
       "technology                        parameter                                                            \n",
       "Ammonia cracker                   FOM              Ishimoto et al. (2020): 10.1016/j.ijhydene.202...   \n",
       "                                  ammonia-input    ENGIE et al (2020): Ammonia to Green Hydrogen ...   \n",
       "                                  investment       Ishimoto et al. (2020): 10.1016/j.ijhydene.202...   \n",
       "                                  lifetime         Ishimoto et al. (2020): 10.1016/j.ijhydene.202...   \n",
       "Battery electric (passenger cars) FOM              PATHS TO A CLIMATE-NEUTRAL ENERGY SYSTEM The G...   \n",
       "...                                                                                              ...   \n",
       "waste CHP CC                      efficiency-heat  Danish Energy Agency, technology_data_for_el_a...   \n",
       "                                  investment       Danish Energy Agency, technology_data_for_el_a...   \n",
       "                                  lifetime         Danish Energy Agency, technology_data_for_el_a...   \n",
       "water tank charger                efficiency       Danish Energy Agency, technology_data_catalogu...   \n",
       "water tank discharger             efficiency       Danish Energy Agency, technology_data_catalogu...   \n",
       "\n",
       "                                                                                 further description  \n",
       "technology                        parameter                                                           \n",
       "Ammonia cracker                   FOM              Estimated based on Labour cost rate, Maintenan...  \n",
       "                                  ammonia-input    Assuming a integrated 200t/d cracking and puri...  \n",
       "                                  investment       Calculated. For a small (200 t_NH3/d input) fa...  \n",
       "                                  lifetime                                                       NaN  \n",
       "Battery electric (passenger cars) FOM                              Battery electric (passenger cars)  \n",
       "...                                                                                              ...  \n",
       "waste CHP CC                      efficiency-heat  08 WtE CHP, Large, 50 degree:  Heat efficiency...  \n",
       "                                  investment       08 WtE CHP, Large, 50 degree:  Nominal investm...  \n",
       "                                  lifetime         08 WtE CHP, Large, 50 degree:  Technical lifetime  \n",
       "water tank charger                efficiency           :  efficiency from sqr(Round trip efficiency)  \n",
       "water tank discharger             efficiency           :  efficiency from sqr(Round trip efficiency)  \n",
       "\n",
       "[913 rows x 4 columns]"
      ]
     },
     "execution_count": 81,
     "metadata": {},
     "output_type": "execute_result"
    }
   ],
   "source": [
    "costs"
   ]
  },
  {
   "cell_type": "code",
   "execution_count": 82,
   "metadata": {},
   "outputs": [],
   "source": [
    "costs.loc[costs.unit.str.contains(\"/kW\"), \"value\"] *= 1e3\n",
    "costs.unit = costs.unit.str.replace(\"/kW\", \"/MW\")\n",
    "\n",
    "defaults = {\n",
    "    \"FOM\": 0,\n",
    "    \"VOM\": 0,\n",
    "    \"efficiency\": 1,\n",
    "    \"fuel\": 0,\n",
    "    \"investment\": 0,\n",
    "    \"lifetime\": 25,\n",
    "    \"CO2 intensity\": 0,\n",
    "    \"discount rate\": 0.07,\n",
    "}\n",
    "\n",
    "# What do these defaults represent? \n",
    "\n",
    "costs = costs.value.unstack().fillna(defaults) # Fills default values into column\n",
    "# turns the parameter index into columns\n",
    "\n",
    "costs.at[\"OCGT\", \"fuel\"] = costs.at[\"gas\", \"fuel\"]\n",
    "costs.at[\"CCGT\", \"fuel\"] = costs.at[\"gas\", \"fuel\"]\n",
    "costs.at[\"OCGT\", \"CO2 intensity\"] = costs.at[\"gas\", \"CO2 intensity\"]\n",
    "costs.at[\"CCGT\", \"CO2 intensity\"] = costs.at[\"gas\", \"CO2 intensity\"]\n",
    "\n",
    "# costs.at[\"OCGT\", \"fuel\"] = costs.at[\"gas\", \"fuel\"]: sets the value in the \"fuel\" column of the row with index \"OCGT\" to the value in the \"fuel\" column of the row with index \"gas\"."
   ]
  },
  {
   "cell_type": "code",
   "execution_count": 83,
   "metadata": {},
   "outputs": [
    {
     "data": {
      "text/html": [
       "<div>\n",
       "<style scoped>\n",
       "    .dataframe tbody tr th:only-of-type {\n",
       "        vertical-align: middle;\n",
       "    }\n",
       "\n",
       "    .dataframe tbody tr th {\n",
       "        vertical-align: top;\n",
       "    }\n",
       "\n",
       "    .dataframe thead th {\n",
       "        text-align: right;\n",
       "    }\n",
       "</style>\n",
       "<table border=\"1\" class=\"dataframe\">\n",
       "  <thead>\n",
       "    <tr style=\"text-align: right;\">\n",
       "      <th>parameter</th>\n",
       "      <th>C in fuel</th>\n",
       "      <th>C stored</th>\n",
       "      <th>CO2 intensity</th>\n",
       "      <th>CO2 stored</th>\n",
       "      <th>FOM</th>\n",
       "      <th>VOM</th>\n",
       "      <th>ammonia-input</th>\n",
       "      <th>c_b</th>\n",
       "      <th>c_v</th>\n",
       "      <th>capacity</th>\n",
       "      <th>...</th>\n",
       "      <th>lifetime</th>\n",
       "      <th>lohc-input</th>\n",
       "      <th>methane-input</th>\n",
       "      <th>methanol-input</th>\n",
       "      <th>min_fill_level</th>\n",
       "      <th>naphtha-input</th>\n",
       "      <th>nitrogen-input</th>\n",
       "      <th>ore-input</th>\n",
       "      <th>p_nom_ratio</th>\n",
       "      <th>pelletizing cost</th>\n",
       "    </tr>\n",
       "    <tr>\n",
       "      <th>technology</th>\n",
       "      <th></th>\n",
       "      <th></th>\n",
       "      <th></th>\n",
       "      <th></th>\n",
       "      <th></th>\n",
       "      <th></th>\n",
       "      <th></th>\n",
       "      <th></th>\n",
       "      <th></th>\n",
       "      <th></th>\n",
       "      <th></th>\n",
       "      <th></th>\n",
       "      <th></th>\n",
       "      <th></th>\n",
       "      <th></th>\n",
       "      <th></th>\n",
       "      <th></th>\n",
       "      <th></th>\n",
       "      <th></th>\n",
       "      <th></th>\n",
       "      <th></th>\n",
       "    </tr>\n",
       "  </thead>\n",
       "  <tbody>\n",
       "    <tr>\n",
       "      <th>Ammonia cracker</th>\n",
       "      <td>NaN</td>\n",
       "      <td>NaN</td>\n",
       "      <td>0.0</td>\n",
       "      <td>NaN</td>\n",
       "      <td>4.3000</td>\n",
       "      <td>0.0000</td>\n",
       "      <td>1.46</td>\n",
       "      <td>NaN</td>\n",
       "      <td>NaN</td>\n",
       "      <td>NaN</td>\n",
       "      <td>...</td>\n",
       "      <td>25.0</td>\n",
       "      <td>NaN</td>\n",
       "      <td>NaN</td>\n",
       "      <td>NaN</td>\n",
       "      <td>NaN</td>\n",
       "      <td>NaN</td>\n",
       "      <td>NaN</td>\n",
       "      <td>NaN</td>\n",
       "      <td>NaN</td>\n",
       "      <td>NaN</td>\n",
       "    </tr>\n",
       "    <tr>\n",
       "      <th>Battery electric (passenger cars)</th>\n",
       "      <td>NaN</td>\n",
       "      <td>NaN</td>\n",
       "      <td>0.0</td>\n",
       "      <td>NaN</td>\n",
       "      <td>0.9000</td>\n",
       "      <td>0.0000</td>\n",
       "      <td>NaN</td>\n",
       "      <td>NaN</td>\n",
       "      <td>NaN</td>\n",
       "      <td>NaN</td>\n",
       "      <td>...</td>\n",
       "      <td>15.0</td>\n",
       "      <td>NaN</td>\n",
       "      <td>NaN</td>\n",
       "      <td>NaN</td>\n",
       "      <td>NaN</td>\n",
       "      <td>NaN</td>\n",
       "      <td>NaN</td>\n",
       "      <td>NaN</td>\n",
       "      <td>NaN</td>\n",
       "      <td>NaN</td>\n",
       "    </tr>\n",
       "    <tr>\n",
       "      <th>Battery electric (trucks)</th>\n",
       "      <td>NaN</td>\n",
       "      <td>NaN</td>\n",
       "      <td>0.0</td>\n",
       "      <td>NaN</td>\n",
       "      <td>15.0000</td>\n",
       "      <td>0.0000</td>\n",
       "      <td>NaN</td>\n",
       "      <td>NaN</td>\n",
       "      <td>NaN</td>\n",
       "      <td>NaN</td>\n",
       "      <td>...</td>\n",
       "      <td>15.0</td>\n",
       "      <td>NaN</td>\n",
       "      <td>NaN</td>\n",
       "      <td>NaN</td>\n",
       "      <td>NaN</td>\n",
       "      <td>NaN</td>\n",
       "      <td>NaN</td>\n",
       "      <td>NaN</td>\n",
       "      <td>NaN</td>\n",
       "      <td>NaN</td>\n",
       "    </tr>\n",
       "    <tr>\n",
       "      <th>BioSNG</th>\n",
       "      <td>0.3402</td>\n",
       "      <td>0.6598</td>\n",
       "      <td>0.0</td>\n",
       "      <td>0.2419</td>\n",
       "      <td>1.6375</td>\n",
       "      <td>1.7000</td>\n",
       "      <td>NaN</td>\n",
       "      <td>NaN</td>\n",
       "      <td>NaN</td>\n",
       "      <td>NaN</td>\n",
       "      <td>...</td>\n",
       "      <td>25.0</td>\n",
       "      <td>NaN</td>\n",
       "      <td>NaN</td>\n",
       "      <td>NaN</td>\n",
       "      <td>NaN</td>\n",
       "      <td>NaN</td>\n",
       "      <td>NaN</td>\n",
       "      <td>NaN</td>\n",
       "      <td>NaN</td>\n",
       "      <td>NaN</td>\n",
       "    </tr>\n",
       "    <tr>\n",
       "      <th>BtL</th>\n",
       "      <td>0.2688</td>\n",
       "      <td>0.7312</td>\n",
       "      <td>0.0</td>\n",
       "      <td>0.2681</td>\n",
       "      <td>2.6667</td>\n",
       "      <td>1.0626</td>\n",
       "      <td>NaN</td>\n",
       "      <td>NaN</td>\n",
       "      <td>NaN</td>\n",
       "      <td>NaN</td>\n",
       "      <td>...</td>\n",
       "      <td>25.0</td>\n",
       "      <td>NaN</td>\n",
       "      <td>NaN</td>\n",
       "      <td>NaN</td>\n",
       "      <td>NaN</td>\n",
       "      <td>NaN</td>\n",
       "      <td>NaN</td>\n",
       "      <td>NaN</td>\n",
       "      <td>NaN</td>\n",
       "      <td>NaN</td>\n",
       "    </tr>\n",
       "    <tr>\n",
       "      <th>...</th>\n",
       "      <td>...</td>\n",
       "      <td>...</td>\n",
       "      <td>...</td>\n",
       "      <td>...</td>\n",
       "      <td>...</td>\n",
       "      <td>...</td>\n",
       "      <td>...</td>\n",
       "      <td>...</td>\n",
       "      <td>...</td>\n",
       "      <td>...</td>\n",
       "      <td>...</td>\n",
       "      <td>...</td>\n",
       "      <td>...</td>\n",
       "      <td>...</td>\n",
       "      <td>...</td>\n",
       "      <td>...</td>\n",
       "      <td>...</td>\n",
       "      <td>...</td>\n",
       "      <td>...</td>\n",
       "      <td>...</td>\n",
       "      <td>...</td>\n",
       "    </tr>\n",
       "    <tr>\n",
       "      <th>uranium</th>\n",
       "      <td>NaN</td>\n",
       "      <td>NaN</td>\n",
       "      <td>0.0</td>\n",
       "      <td>NaN</td>\n",
       "      <td>0.0000</td>\n",
       "      <td>0.0000</td>\n",
       "      <td>NaN</td>\n",
       "      <td>NaN</td>\n",
       "      <td>NaN</td>\n",
       "      <td>NaN</td>\n",
       "      <td>...</td>\n",
       "      <td>25.0</td>\n",
       "      <td>NaN</td>\n",
       "      <td>NaN</td>\n",
       "      <td>NaN</td>\n",
       "      <td>NaN</td>\n",
       "      <td>NaN</td>\n",
       "      <td>NaN</td>\n",
       "      <td>NaN</td>\n",
       "      <td>NaN</td>\n",
       "      <td>NaN</td>\n",
       "    </tr>\n",
       "    <tr>\n",
       "      <th>waste CHP</th>\n",
       "      <td>NaN</td>\n",
       "      <td>NaN</td>\n",
       "      <td>0.0</td>\n",
       "      <td>NaN</td>\n",
       "      <td>2.3550</td>\n",
       "      <td>26.5199</td>\n",
       "      <td>NaN</td>\n",
       "      <td>0.2918</td>\n",
       "      <td>1.0</td>\n",
       "      <td>NaN</td>\n",
       "      <td>...</td>\n",
       "      <td>25.0</td>\n",
       "      <td>NaN</td>\n",
       "      <td>NaN</td>\n",
       "      <td>NaN</td>\n",
       "      <td>NaN</td>\n",
       "      <td>NaN</td>\n",
       "      <td>NaN</td>\n",
       "      <td>NaN</td>\n",
       "      <td>NaN</td>\n",
       "      <td>NaN</td>\n",
       "    </tr>\n",
       "    <tr>\n",
       "      <th>waste CHP CC</th>\n",
       "      <td>NaN</td>\n",
       "      <td>NaN</td>\n",
       "      <td>0.0</td>\n",
       "      <td>NaN</td>\n",
       "      <td>2.3550</td>\n",
       "      <td>26.5199</td>\n",
       "      <td>NaN</td>\n",
       "      <td>0.2918</td>\n",
       "      <td>1.0</td>\n",
       "      <td>NaN</td>\n",
       "      <td>...</td>\n",
       "      <td>25.0</td>\n",
       "      <td>NaN</td>\n",
       "      <td>NaN</td>\n",
       "      <td>NaN</td>\n",
       "      <td>NaN</td>\n",
       "      <td>NaN</td>\n",
       "      <td>NaN</td>\n",
       "      <td>NaN</td>\n",
       "      <td>NaN</td>\n",
       "      <td>NaN</td>\n",
       "    </tr>\n",
       "    <tr>\n",
       "      <th>water tank charger</th>\n",
       "      <td>NaN</td>\n",
       "      <td>NaN</td>\n",
       "      <td>0.0</td>\n",
       "      <td>NaN</td>\n",
       "      <td>0.0000</td>\n",
       "      <td>0.0000</td>\n",
       "      <td>NaN</td>\n",
       "      <td>NaN</td>\n",
       "      <td>NaN</td>\n",
       "      <td>NaN</td>\n",
       "      <td>...</td>\n",
       "      <td>25.0</td>\n",
       "      <td>NaN</td>\n",
       "      <td>NaN</td>\n",
       "      <td>NaN</td>\n",
       "      <td>NaN</td>\n",
       "      <td>NaN</td>\n",
       "      <td>NaN</td>\n",
       "      <td>NaN</td>\n",
       "      <td>NaN</td>\n",
       "      <td>NaN</td>\n",
       "    </tr>\n",
       "    <tr>\n",
       "      <th>water tank discharger</th>\n",
       "      <td>NaN</td>\n",
       "      <td>NaN</td>\n",
       "      <td>0.0</td>\n",
       "      <td>NaN</td>\n",
       "      <td>0.0000</td>\n",
       "      <td>0.0000</td>\n",
       "      <td>NaN</td>\n",
       "      <td>NaN</td>\n",
       "      <td>NaN</td>\n",
       "      <td>NaN</td>\n",
       "      <td>...</td>\n",
       "      <td>25.0</td>\n",
       "      <td>NaN</td>\n",
       "      <td>NaN</td>\n",
       "      <td>NaN</td>\n",
       "      <td>NaN</td>\n",
       "      <td>NaN</td>\n",
       "      <td>NaN</td>\n",
       "      <td>NaN</td>\n",
       "      <td>NaN</td>\n",
       "      <td>NaN</td>\n",
       "    </tr>\n",
       "  </tbody>\n",
       "</table>\n",
       "<p>225 rows × 44 columns</p>\n",
       "</div>"
      ],
      "text/plain": [
       "parameter                          C in fuel  C stored  CO2 intensity  \\\n",
       "technology                                                              \n",
       "Ammonia cracker                          NaN       NaN            0.0   \n",
       "Battery electric (passenger cars)        NaN       NaN            0.0   \n",
       "Battery electric (trucks)                NaN       NaN            0.0   \n",
       "BioSNG                                0.3402    0.6598            0.0   \n",
       "BtL                                   0.2688    0.7312            0.0   \n",
       "...                                      ...       ...            ...   \n",
       "uranium                                  NaN       NaN            0.0   \n",
       "waste CHP                                NaN       NaN            0.0   \n",
       "waste CHP CC                             NaN       NaN            0.0   \n",
       "water tank charger                       NaN       NaN            0.0   \n",
       "water tank discharger                    NaN       NaN            0.0   \n",
       "\n",
       "parameter                          CO2 stored      FOM      VOM  \\\n",
       "technology                                                        \n",
       "Ammonia cracker                           NaN   4.3000   0.0000   \n",
       "Battery electric (passenger cars)         NaN   0.9000   0.0000   \n",
       "Battery electric (trucks)                 NaN  15.0000   0.0000   \n",
       "BioSNG                                 0.2419   1.6375   1.7000   \n",
       "BtL                                    0.2681   2.6667   1.0626   \n",
       "...                                       ...      ...      ...   \n",
       "uranium                                   NaN   0.0000   0.0000   \n",
       "waste CHP                                 NaN   2.3550  26.5199   \n",
       "waste CHP CC                              NaN   2.3550  26.5199   \n",
       "water tank charger                        NaN   0.0000   0.0000   \n",
       "water tank discharger                     NaN   0.0000   0.0000   \n",
       "\n",
       "parameter                          ammonia-input     c_b  c_v  capacity  ...  \\\n",
       "technology                                                               ...   \n",
       "Ammonia cracker                             1.46     NaN  NaN       NaN  ...   \n",
       "Battery electric (passenger cars)            NaN     NaN  NaN       NaN  ...   \n",
       "Battery electric (trucks)                    NaN     NaN  NaN       NaN  ...   \n",
       "BioSNG                                       NaN     NaN  NaN       NaN  ...   \n",
       "BtL                                          NaN     NaN  NaN       NaN  ...   \n",
       "...                                          ...     ...  ...       ...  ...   \n",
       "uranium                                      NaN     NaN  NaN       NaN  ...   \n",
       "waste CHP                                    NaN  0.2918  1.0       NaN  ...   \n",
       "waste CHP CC                                 NaN  0.2918  1.0       NaN  ...   \n",
       "water tank charger                           NaN     NaN  NaN       NaN  ...   \n",
       "water tank discharger                        NaN     NaN  NaN       NaN  ...   \n",
       "\n",
       "parameter                          lifetime  lohc-input  methane-input  \\\n",
       "technology                                                               \n",
       "Ammonia cracker                        25.0         NaN            NaN   \n",
       "Battery electric (passenger cars)      15.0         NaN            NaN   \n",
       "Battery electric (trucks)              15.0         NaN            NaN   \n",
       "BioSNG                                 25.0         NaN            NaN   \n",
       "BtL                                    25.0         NaN            NaN   \n",
       "...                                     ...         ...            ...   \n",
       "uranium                                25.0         NaN            NaN   \n",
       "waste CHP                              25.0         NaN            NaN   \n",
       "waste CHP CC                           25.0         NaN            NaN   \n",
       "water tank charger                     25.0         NaN            NaN   \n",
       "water tank discharger                  25.0         NaN            NaN   \n",
       "\n",
       "parameter                          methanol-input  min_fill_level  \\\n",
       "technology                                                          \n",
       "Ammonia cracker                               NaN             NaN   \n",
       "Battery electric (passenger cars)             NaN             NaN   \n",
       "Battery electric (trucks)                     NaN             NaN   \n",
       "BioSNG                                        NaN             NaN   \n",
       "BtL                                           NaN             NaN   \n",
       "...                                           ...             ...   \n",
       "uranium                                       NaN             NaN   \n",
       "waste CHP                                     NaN             NaN   \n",
       "waste CHP CC                                  NaN             NaN   \n",
       "water tank charger                            NaN             NaN   \n",
       "water tank discharger                         NaN             NaN   \n",
       "\n",
       "parameter                          naphtha-input  nitrogen-input  ore-input  \\\n",
       "technology                                                                    \n",
       "Ammonia cracker                              NaN             NaN        NaN   \n",
       "Battery electric (passenger cars)            NaN             NaN        NaN   \n",
       "Battery electric (trucks)                    NaN             NaN        NaN   \n",
       "BioSNG                                       NaN             NaN        NaN   \n",
       "BtL                                          NaN             NaN        NaN   \n",
       "...                                          ...             ...        ...   \n",
       "uranium                                      NaN             NaN        NaN   \n",
       "waste CHP                                    NaN             NaN        NaN   \n",
       "waste CHP CC                                 NaN             NaN        NaN   \n",
       "water tank charger                           NaN             NaN        NaN   \n",
       "water tank discharger                        NaN             NaN        NaN   \n",
       "\n",
       "parameter                          p_nom_ratio  pelletizing cost  \n",
       "technology                                                        \n",
       "Ammonia cracker                            NaN               NaN  \n",
       "Battery electric (passenger cars)          NaN               NaN  \n",
       "Battery electric (trucks)                  NaN               NaN  \n",
       "BioSNG                                     NaN               NaN  \n",
       "BtL                                        NaN               NaN  \n",
       "...                                        ...               ...  \n",
       "uranium                                    NaN               NaN  \n",
       "waste CHP                                  NaN               NaN  \n",
       "waste CHP CC                               NaN               NaN  \n",
       "water tank charger                         NaN               NaN  \n",
       "water tank discharger                      NaN               NaN  \n",
       "\n",
       "[225 rows x 44 columns]"
      ]
     },
     "execution_count": 83,
     "metadata": {},
     "output_type": "execute_result"
    }
   ],
   "source": [
    "costs"
   ]
  },
  {
   "cell_type": "markdown",
   "metadata": {},
   "source": [
    "Let's also write a small utility function that calculates the **annuity** to annualise investment costs. The formula is\n",
    "\n",
    "$$\n",
    "a(r, n) = \\frac{r}{1-(1+r)^{-n}}\n",
    "$$\n",
    "where $r$ is the discount rate and $n$ is the lifetime."
   ]
  },
  {
   "cell_type": "code",
   "execution_count": 85,
   "metadata": {},
   "outputs": [],
   "source": [
    "def annuity(r, n):\n",
    "    return r / (1.0 - 1.0 / (1.0 + r) ** n)"
   ]
  },
  {
   "cell_type": "code",
   "execution_count": 86,
   "metadata": {},
   "outputs": [
    {
     "data": {
      "text/plain": [
       "0.09439292574325567"
      ]
     },
     "execution_count": 86,
     "metadata": {},
     "output_type": "execute_result"
    }
   ],
   "source": [
    "annuity(0.07, 20)"
   ]
  },
  {
   "cell_type": "markdown",
   "metadata": {},
   "source": [
    "Based on this, we can calculate the short-term marginal generation costs (STMGC, €/MWh):"
   ]
  },
  {
   "cell_type": "code",
   "execution_count": 87,
   "metadata": {},
   "outputs": [],
   "source": [
    "costs[\"marginal_cost\"] = costs[\"VOM\"] + costs[\"fuel\"] / costs[\"efficiency\"]\n",
    "\n",
    "# Marginal cost refers to the additional cost incurred by producing one more unit of a good or service."
   ]
  },
  {
   "cell_type": "markdown",
   "metadata": {},
   "source": [
    "and the annualised investment costs (`capital_cost` in PyPSA terms, €/MW/a):"
   ]
  },
  {
   "cell_type": "code",
   "execution_count": 88,
   "metadata": {},
   "outputs": [],
   "source": [
    "annuity = costs.apply(lambda x: annuity(x[\"discount rate\"], x[\"lifetime\"]), axis=1)"
   ]
  },
  {
   "cell_type": "code",
   "execution_count": 89,
   "metadata": {},
   "outputs": [],
   "source": [
    "costs[\"capital_cost\"] = (annuity + costs[\"FOM\"] / 100) * costs[\"investment\"]"
   ]
  },
  {
   "cell_type": "code",
   "execution_count": null,
   "metadata": {},
   "outputs": [],
   "source": []
  },
  {
   "cell_type": "markdown",
   "metadata": {},
   "source": [
    "## Loading time series data"
   ]
  },
  {
   "cell_type": "markdown",
   "metadata": {},
   "source": [
    "We are also going to need some time series for wind, solar and load. For now, we are going to recycle the time series we used at the beginning of the course. They are given for Germany in the year 2015."
   ]
  },
  {
   "cell_type": "code",
   "execution_count": 90,
   "metadata": {},
   "outputs": [],
   "source": [
    "url = (\n",
    "    \"https://tubcloud.tu-berlin.de/s/pKttFadrbTKSJKF/download/time-series-lecture-2.csv\"\n",
    ")\n",
    "ts = pd.read_csv(url, index_col=0, parse_dates=True)"
   ]
  },
  {
   "cell_type": "code",
   "execution_count": 91,
   "metadata": {},
   "outputs": [
    {
     "data": {
      "text/html": [
       "<div>\n",
       "<style scoped>\n",
       "    .dataframe tbody tr th:only-of-type {\n",
       "        vertical-align: middle;\n",
       "    }\n",
       "\n",
       "    .dataframe tbody tr th {\n",
       "        vertical-align: top;\n",
       "    }\n",
       "\n",
       "    .dataframe thead th {\n",
       "        text-align: right;\n",
       "    }\n",
       "</style>\n",
       "<table border=\"1\" class=\"dataframe\">\n",
       "  <thead>\n",
       "    <tr style=\"text-align: right;\">\n",
       "      <th></th>\n",
       "      <th>load</th>\n",
       "      <th>onwind</th>\n",
       "      <th>offwind</th>\n",
       "      <th>solar</th>\n",
       "      <th>prices</th>\n",
       "    </tr>\n",
       "  </thead>\n",
       "  <tbody>\n",
       "    <tr>\n",
       "      <th>2015-01-01 00:00:00</th>\n",
       "      <td>41.151</td>\n",
       "      <td>0.1566</td>\n",
       "      <td>0.7030</td>\n",
       "      <td>0.0</td>\n",
       "      <td>NaN</td>\n",
       "    </tr>\n",
       "    <tr>\n",
       "      <th>2015-01-01 01:00:00</th>\n",
       "      <td>40.135</td>\n",
       "      <td>0.1659</td>\n",
       "      <td>0.6875</td>\n",
       "      <td>0.0</td>\n",
       "      <td>NaN</td>\n",
       "    </tr>\n",
       "    <tr>\n",
       "      <th>2015-01-01 02:00:00</th>\n",
       "      <td>39.106</td>\n",
       "      <td>0.1746</td>\n",
       "      <td>0.6535</td>\n",
       "      <td>0.0</td>\n",
       "      <td>NaN</td>\n",
       "    </tr>\n",
       "  </tbody>\n",
       "</table>\n",
       "</div>"
      ],
      "text/plain": [
       "                       load  onwind  offwind  solar  prices\n",
       "2015-01-01 00:00:00  41.151  0.1566   0.7030    0.0     NaN\n",
       "2015-01-01 01:00:00  40.135  0.1659   0.6875    0.0     NaN\n",
       "2015-01-01 02:00:00  39.106  0.1746   0.6535    0.0     NaN"
      ]
     },
     "execution_count": 91,
     "metadata": {},
     "output_type": "execute_result"
    }
   ],
   "source": [
    "ts.head(3)"
   ]
  },
  {
   "cell_type": "markdown",
   "metadata": {},
   "source": [
    "Let's convert the load time series from GW to MW, the base unit of PyPSA:"
   ]
  },
  {
   "cell_type": "code",
   "execution_count": 92,
   "metadata": {},
   "outputs": [],
   "source": [
    "ts.load *= 1e3"
   ]
  },
  {
   "cell_type": "code",
   "execution_count": 93,
   "metadata": {},
   "outputs": [
    {
     "data": {
      "text/html": [
       "<div>\n",
       "<style scoped>\n",
       "    .dataframe tbody tr th:only-of-type {\n",
       "        vertical-align: middle;\n",
       "    }\n",
       "\n",
       "    .dataframe tbody tr th {\n",
       "        vertical-align: top;\n",
       "    }\n",
       "\n",
       "    .dataframe thead th {\n",
       "        text-align: right;\n",
       "    }\n",
       "</style>\n",
       "<table border=\"1\" class=\"dataframe\">\n",
       "  <thead>\n",
       "    <tr style=\"text-align: right;\">\n",
       "      <th></th>\n",
       "      <th>load</th>\n",
       "      <th>onwind</th>\n",
       "      <th>offwind</th>\n",
       "      <th>solar</th>\n",
       "      <th>prices</th>\n",
       "    </tr>\n",
       "  </thead>\n",
       "  <tbody>\n",
       "    <tr>\n",
       "      <th>2015-01-01 00:00:00</th>\n",
       "      <td>41151.0</td>\n",
       "      <td>0.1566</td>\n",
       "      <td>0.7030</td>\n",
       "      <td>0.0</td>\n",
       "      <td>NaN</td>\n",
       "    </tr>\n",
       "    <tr>\n",
       "      <th>2015-01-01 01:00:00</th>\n",
       "      <td>40135.0</td>\n",
       "      <td>0.1659</td>\n",
       "      <td>0.6875</td>\n",
       "      <td>0.0</td>\n",
       "      <td>NaN</td>\n",
       "    </tr>\n",
       "    <tr>\n",
       "      <th>2015-01-01 02:00:00</th>\n",
       "      <td>39106.0</td>\n",
       "      <td>0.1746</td>\n",
       "      <td>0.6535</td>\n",
       "      <td>0.0</td>\n",
       "      <td>NaN</td>\n",
       "    </tr>\n",
       "  </tbody>\n",
       "</table>\n",
       "</div>"
      ],
      "text/plain": [
       "                        load  onwind  offwind  solar  prices\n",
       "2015-01-01 00:00:00  41151.0  0.1566   0.7030    0.0     NaN\n",
       "2015-01-01 01:00:00  40135.0  0.1659   0.6875    0.0     NaN\n",
       "2015-01-01 02:00:00  39106.0  0.1746   0.6535    0.0     NaN"
      ]
     },
     "execution_count": 93,
     "metadata": {},
     "output_type": "execute_result"
    }
   ],
   "source": [
    "ts.head(3)"
   ]
  },
  {
   "cell_type": "code",
   "execution_count": 94,
   "metadata": {},
   "outputs": [
    {
     "data": {
      "text/plain": [
       "(8760, 5)"
      ]
     },
     "execution_count": 94,
     "metadata": {},
     "output_type": "execute_result"
    }
   ],
   "source": [
    "ts.shape"
   ]
  },
  {
   "cell_type": "markdown",
   "metadata": {},
   "source": [
    "We are also going to adapt the temporal resolution of the time series, e.g. sample only every other hour, to save some time:"
   ]
  },
  {
   "cell_type": "code",
   "execution_count": 95,
   "metadata": {},
   "outputs": [],
   "source": [
    "resolution = 4\n",
    "ts = ts.resample(f\"{resolution}H\").first()\n",
    "\n",
    "# This method is used to get the first value in each resampled interval. \n",
    "# It is a way of downsampling the time series and selecting the first data point within each new interval."
   ]
  },
  {
   "cell_type": "code",
   "execution_count": 96,
   "metadata": {},
   "outputs": [
    {
     "data": {
      "text/html": [
       "<div>\n",
       "<style scoped>\n",
       "    .dataframe tbody tr th:only-of-type {\n",
       "        vertical-align: middle;\n",
       "    }\n",
       "\n",
       "    .dataframe tbody tr th {\n",
       "        vertical-align: top;\n",
       "    }\n",
       "\n",
       "    .dataframe thead th {\n",
       "        text-align: right;\n",
       "    }\n",
       "</style>\n",
       "<table border=\"1\" class=\"dataframe\">\n",
       "  <thead>\n",
       "    <tr style=\"text-align: right;\">\n",
       "      <th></th>\n",
       "      <th>load</th>\n",
       "      <th>onwind</th>\n",
       "      <th>offwind</th>\n",
       "      <th>solar</th>\n",
       "      <th>prices</th>\n",
       "    </tr>\n",
       "  </thead>\n",
       "  <tbody>\n",
       "    <tr>\n",
       "      <th>2015-01-01 00:00:00</th>\n",
       "      <td>41151.0</td>\n",
       "      <td>0.1566</td>\n",
       "      <td>0.7030</td>\n",
       "      <td>0.0000</td>\n",
       "      <td>NaN</td>\n",
       "    </tr>\n",
       "    <tr>\n",
       "      <th>2015-01-01 04:00:00</th>\n",
       "      <td>38941.0</td>\n",
       "      <td>0.1826</td>\n",
       "      <td>0.7272</td>\n",
       "      <td>0.0000</td>\n",
       "      <td>NaN</td>\n",
       "    </tr>\n",
       "    <tr>\n",
       "      <th>2015-01-01 08:00:00</th>\n",
       "      <td>42963.0</td>\n",
       "      <td>0.2281</td>\n",
       "      <td>0.7828</td>\n",
       "      <td>0.0442</td>\n",
       "      <td>NaN</td>\n",
       "    </tr>\n",
       "    <tr>\n",
       "      <th>2015-01-01 12:00:00</th>\n",
       "      <td>47164.0</td>\n",
       "      <td>0.2384</td>\n",
       "      <td>0.8244</td>\n",
       "      <td>0.2074</td>\n",
       "      <td>NaN</td>\n",
       "    </tr>\n",
       "    <tr>\n",
       "      <th>2015-01-01 16:00:00</th>\n",
       "      <td>53410.0</td>\n",
       "      <td>0.3828</td>\n",
       "      <td>0.9022</td>\n",
       "      <td>0.0000</td>\n",
       "      <td>NaN</td>\n",
       "    </tr>\n",
       "    <tr>\n",
       "      <th>...</th>\n",
       "      <td>...</td>\n",
       "      <td>...</td>\n",
       "      <td>...</td>\n",
       "      <td>...</td>\n",
       "      <td>...</td>\n",
       "    </tr>\n",
       "    <tr>\n",
       "      <th>2015-12-31 04:00:00</th>\n",
       "      <td>40506.0</td>\n",
       "      <td>0.4099</td>\n",
       "      <td>0.8232</td>\n",
       "      <td>0.0000</td>\n",
       "      <td>1.64</td>\n",
       "    </tr>\n",
       "    <tr>\n",
       "      <th>2015-12-31 08:00:00</th>\n",
       "      <td>50223.0</td>\n",
       "      <td>0.3269</td>\n",
       "      <td>0.7597</td>\n",
       "      <td>0.0416</td>\n",
       "      <td>15.72</td>\n",
       "    </tr>\n",
       "    <tr>\n",
       "      <th>2015-12-31 12:00:00</th>\n",
       "      <td>50741.0</td>\n",
       "      <td>0.2319</td>\n",
       "      <td>0.7766</td>\n",
       "      <td>0.1509</td>\n",
       "      <td>26.23</td>\n",
       "    </tr>\n",
       "    <tr>\n",
       "      <th>2015-12-31 16:00:00</th>\n",
       "      <td>54645.0</td>\n",
       "      <td>0.1942</td>\n",
       "      <td>0.5903</td>\n",
       "      <td>0.0000</td>\n",
       "      <td>32.87</td>\n",
       "    </tr>\n",
       "    <tr>\n",
       "      <th>2015-12-31 20:00:00</th>\n",
       "      <td>45911.0</td>\n",
       "      <td>0.1211</td>\n",
       "      <td>0.4023</td>\n",
       "      <td>0.0000</td>\n",
       "      <td>28.81</td>\n",
       "    </tr>\n",
       "  </tbody>\n",
       "</table>\n",
       "<p>2190 rows × 5 columns</p>\n",
       "</div>"
      ],
      "text/plain": [
       "                        load  onwind  offwind   solar  prices\n",
       "2015-01-01 00:00:00  41151.0  0.1566   0.7030  0.0000     NaN\n",
       "2015-01-01 04:00:00  38941.0  0.1826   0.7272  0.0000     NaN\n",
       "2015-01-01 08:00:00  42963.0  0.2281   0.7828  0.0442     NaN\n",
       "2015-01-01 12:00:00  47164.0  0.2384   0.8244  0.2074     NaN\n",
       "2015-01-01 16:00:00  53410.0  0.3828   0.9022  0.0000     NaN\n",
       "...                      ...     ...      ...     ...     ...\n",
       "2015-12-31 04:00:00  40506.0  0.4099   0.8232  0.0000    1.64\n",
       "2015-12-31 08:00:00  50223.0  0.3269   0.7597  0.0416   15.72\n",
       "2015-12-31 12:00:00  50741.0  0.2319   0.7766  0.1509   26.23\n",
       "2015-12-31 16:00:00  54645.0  0.1942   0.5903  0.0000   32.87\n",
       "2015-12-31 20:00:00  45911.0  0.1211   0.4023  0.0000   28.81\n",
       "\n",
       "[2190 rows x 5 columns]"
      ]
     },
     "execution_count": 96,
     "metadata": {},
     "output_type": "execute_result"
    }
   ],
   "source": [
    "ts"
   ]
  },
  {
   "cell_type": "markdown",
   "metadata": {},
   "source": [
    "## Simple capacity expansion planning example"
   ]
  },
  {
   "cell_type": "markdown",
   "metadata": {},
   "source": [
    ":::{note}\n",
    "See also https://model.energy.\n",
    ":::"
   ]
  },
  {
   "cell_type": "markdown",
   "metadata": {},
   "source": [
    "**In this tutorial, we want to build a replica of [model.energy](https://model.energy).** This tool calculates the cost of meeting a constant electricity demand from a combination of wind power, solar power and storage for different regions of the world.\n",
    "\n",
    "We deviate from [model.energy](https://model.energy) by including offshore wind generation and electricity demand profiles rather than a constant electricity demand. Also, we are going to start with Germany only. You can adapt the code to other countries as an exercise."
   ]
  },
  {
   "cell_type": "markdown",
   "metadata": {},
   "source": [
    "### Model Initialisation"
   ]
  },
  {
   "cell_type": "markdown",
   "metadata": {},
   "source": [
    "For building the model, we start again by initialising an empty network."
   ]
  },
  {
   "cell_type": "code",
   "execution_count": 97,
   "metadata": {},
   "outputs": [],
   "source": [
    "n = pypsa.Network()"
   ]
  },
  {
   "cell_type": "markdown",
   "metadata": {},
   "source": [
    "Then, we add a single bus..."
   ]
  },
  {
   "cell_type": "code",
   "execution_count": 98,
   "metadata": {},
   "outputs": [],
   "source": [
    "n.add(\"Bus\", \"electricity\")"
   ]
  },
  {
   "cell_type": "markdown",
   "metadata": {},
   "source": [
    "...and tell the `pypsa.Network` object `n` what the snapshots of the model will be using the utility function `n.set_snapshots()`."
   ]
  },
  {
   "cell_type": "code",
   "execution_count": 99,
   "metadata": {},
   "outputs": [],
   "source": [
    "n.set_snapshots(ts.index)"
   ]
  },
  {
   "cell_type": "code",
   "execution_count": 100,
   "metadata": {},
   "outputs": [
    {
     "data": {
      "text/plain": [
       "DatetimeIndex(['2015-01-01 00:00:00', '2015-01-01 04:00:00',\n",
       "               '2015-01-01 08:00:00', '2015-01-01 12:00:00',\n",
       "               '2015-01-01 16:00:00', '2015-01-01 20:00:00',\n",
       "               '2015-01-02 00:00:00', '2015-01-02 04:00:00',\n",
       "               '2015-01-02 08:00:00', '2015-01-02 12:00:00',\n",
       "               ...\n",
       "               '2015-12-30 08:00:00', '2015-12-30 12:00:00',\n",
       "               '2015-12-30 16:00:00', '2015-12-30 20:00:00',\n",
       "               '2015-12-31 00:00:00', '2015-12-31 04:00:00',\n",
       "               '2015-12-31 08:00:00', '2015-12-31 12:00:00',\n",
       "               '2015-12-31 16:00:00', '2015-12-31 20:00:00'],\n",
       "              dtype='datetime64[ns]', name='snapshot', length=2190, freq='4H')"
      ]
     },
     "execution_count": 100,
     "metadata": {},
     "output_type": "execute_result"
    }
   ],
   "source": [
    "n.snapshots"
   ]
  },
  {
   "cell_type": "markdown",
   "metadata": {},
   "source": [
    "The weighting of the snapshots (e.g. how many hours they represent, see $w_t$ in problem formulation above) can be set in `n.snapshot_weightings`."
   ]
  },
  {
   "cell_type": "code",
   "execution_count": 101,
   "metadata": {},
   "outputs": [
    {
     "data": {
      "text/html": [
       "<div>\n",
       "<style scoped>\n",
       "    .dataframe tbody tr th:only-of-type {\n",
       "        vertical-align: middle;\n",
       "    }\n",
       "\n",
       "    .dataframe tbody tr th {\n",
       "        vertical-align: top;\n",
       "    }\n",
       "\n",
       "    .dataframe thead th {\n",
       "        text-align: right;\n",
       "    }\n",
       "</style>\n",
       "<table border=\"1\" class=\"dataframe\">\n",
       "  <thead>\n",
       "    <tr style=\"text-align: right;\">\n",
       "      <th></th>\n",
       "      <th>objective</th>\n",
       "      <th>stores</th>\n",
       "      <th>generators</th>\n",
       "    </tr>\n",
       "    <tr>\n",
       "      <th>snapshot</th>\n",
       "      <th></th>\n",
       "      <th></th>\n",
       "      <th></th>\n",
       "    </tr>\n",
       "  </thead>\n",
       "  <tbody>\n",
       "    <tr>\n",
       "      <th>2015-01-01 00:00:00</th>\n",
       "      <td>1.0</td>\n",
       "      <td>1.0</td>\n",
       "      <td>1.0</td>\n",
       "    </tr>\n",
       "    <tr>\n",
       "      <th>2015-01-01 04:00:00</th>\n",
       "      <td>1.0</td>\n",
       "      <td>1.0</td>\n",
       "      <td>1.0</td>\n",
       "    </tr>\n",
       "    <tr>\n",
       "      <th>2015-01-01 08:00:00</th>\n",
       "      <td>1.0</td>\n",
       "      <td>1.0</td>\n",
       "      <td>1.0</td>\n",
       "    </tr>\n",
       "  </tbody>\n",
       "</table>\n",
       "</div>"
      ],
      "text/plain": [
       "                     objective  stores  generators\n",
       "snapshot                                          \n",
       "2015-01-01 00:00:00        1.0     1.0         1.0\n",
       "2015-01-01 04:00:00        1.0     1.0         1.0\n",
       "2015-01-01 08:00:00        1.0     1.0         1.0"
      ]
     },
     "execution_count": 101,
     "metadata": {},
     "output_type": "execute_result"
    }
   ],
   "source": [
    "n.snapshot_weightings.head(3)"
   ]
  },
  {
   "cell_type": "code",
   "execution_count": 102,
   "metadata": {},
   "outputs": [],
   "source": [
    "n.snapshot_weightings.loc[:, :] = resolution # they each represent 4"
   ]
  },
  {
   "cell_type": "code",
   "execution_count": 103,
   "metadata": {},
   "outputs": [
    {
     "data": {
      "text/html": [
       "<div>\n",
       "<style scoped>\n",
       "    .dataframe tbody tr th:only-of-type {\n",
       "        vertical-align: middle;\n",
       "    }\n",
       "\n",
       "    .dataframe tbody tr th {\n",
       "        vertical-align: top;\n",
       "    }\n",
       "\n",
       "    .dataframe thead th {\n",
       "        text-align: right;\n",
       "    }\n",
       "</style>\n",
       "<table border=\"1\" class=\"dataframe\">\n",
       "  <thead>\n",
       "    <tr style=\"text-align: right;\">\n",
       "      <th></th>\n",
       "      <th>objective</th>\n",
       "      <th>stores</th>\n",
       "      <th>generators</th>\n",
       "    </tr>\n",
       "    <tr>\n",
       "      <th>snapshot</th>\n",
       "      <th></th>\n",
       "      <th></th>\n",
       "      <th></th>\n",
       "    </tr>\n",
       "  </thead>\n",
       "  <tbody>\n",
       "    <tr>\n",
       "      <th>2015-01-01 00:00:00</th>\n",
       "      <td>4.0</td>\n",
       "      <td>4.0</td>\n",
       "      <td>4.0</td>\n",
       "    </tr>\n",
       "    <tr>\n",
       "      <th>2015-01-01 04:00:00</th>\n",
       "      <td>4.0</td>\n",
       "      <td>4.0</td>\n",
       "      <td>4.0</td>\n",
       "    </tr>\n",
       "    <tr>\n",
       "      <th>2015-01-01 08:00:00</th>\n",
       "      <td>4.0</td>\n",
       "      <td>4.0</td>\n",
       "      <td>4.0</td>\n",
       "    </tr>\n",
       "  </tbody>\n",
       "</table>\n",
       "</div>"
      ],
      "text/plain": [
       "                     objective  stores  generators\n",
       "snapshot                                          \n",
       "2015-01-01 00:00:00        4.0     4.0         4.0\n",
       "2015-01-01 04:00:00        4.0     4.0         4.0\n",
       "2015-01-01 08:00:00        4.0     4.0         4.0"
      ]
     },
     "execution_count": 103,
     "metadata": {},
     "output_type": "execute_result"
    }
   ],
   "source": [
    "n.snapshot_weightings.head(3)"
   ]
  },
  {
   "cell_type": "markdown",
   "metadata": {},
   "source": [
    "### Adding Components"
   ]
  },
  {
   "cell_type": "markdown",
   "metadata": {},
   "source": [
    "Then, we add all the technologies we are going to include as carriers."
   ]
  },
  {
   "cell_type": "code",
   "execution_count": 104,
   "metadata": {},
   "outputs": [
    {
     "data": {
      "text/plain": [
       "Index(['onwind', 'offwind', 'solar', 'OCGT', 'hydrogen storage underground',\n",
       "       'battery storage'],\n",
       "      dtype='object')"
      ]
     },
     "execution_count": 104,
     "metadata": {},
     "output_type": "execute_result"
    }
   ],
   "source": [
    "carriers = [\n",
    "    \"onwind\",\n",
    "    \"offwind\",\n",
    "    \"solar\",\n",
    "    \"OCGT\",\n",
    "    \"hydrogen storage underground\",\n",
    "    \"battery storage\",\n",
    "]\n",
    "\n",
    "n.madd(\n",
    "    \"Carrier\",\n",
    "    carriers,\n",
    "    color=[\"dodgerblue\", \"aquamarine\", \"gold\", \"indianred\", \"magenta\", \"yellowgreen\"],\n",
    "    co2_emissions=[costs.at[c, \"CO2 intensity\"] for c in carriers],\n",
    ")"
   ]
  },
  {
   "cell_type": "markdown",
   "metadata": {},
   "source": [
    "Next, we add the demand time series to the model."
   ]
  },
  {
   "cell_type": "code",
   "execution_count": 105,
   "metadata": {},
   "outputs": [],
   "source": [
    "n.add(\n",
    "    \"Load\",\n",
    "    \"demand\",\n",
    "    bus=\"electricity\",\n",
    "    p_set=ts.load,\n",
    ")"
   ]
  },
  {
   "cell_type": "markdown",
   "metadata": {},
   "source": [
    "Let's have a check whether the data was read-in correctly."
   ]
  },
  {
   "cell_type": "code",
   "execution_count": 106,
   "metadata": {},
   "outputs": [
    {
     "data": {
      "text/plain": [
       "<Axes: xlabel='snapshot', ylabel='MW'>"
      ]
     },
     "execution_count": 106,
     "metadata": {},
     "output_type": "execute_result"
    },
    {
     "data": {
      "image/png": "[encoded data removed]",
      "text/plain": [
       "<Figure size 1500x800 with 1 Axes>"
      ]
     },
     "metadata": {},
     "output_type": "display_data"
    }
   ],
   "source": [
    "n.loads_t.p_set.plot(figsize=(15, 8), ylabel=\"MW\")"
   ]
  },
  {
   "cell_type": "markdown",
   "metadata": {},
   "source": [
    "We are going to add one dispatchable generation technology to the model. This is an open-cycle gas turbine (OCGT) with CO$_2$ emissions of 0.2 t/MWh$_{th}$.\n",
    "\n",
    "Nick: What does dispatchable generation technology mean?"
   ]
  },
  {
   "cell_type": "code",
   "execution_count": 107,
   "metadata": {},
   "outputs": [],
   "source": [
    "n.add(\n",
    "    \"Generator\",\n",
    "    \"OCGT\",\n",
    "    bus=\"electricity\",\n",
    "    carrier=\"OCGT\",\n",
    "    capital_cost=costs.at[\"OCGT\", \"capital_cost\"],\n",
    "    marginal_cost=costs.at[\"OCGT\", \"marginal_cost\"],\n",
    "    efficiency=costs.at[\"OCGT\", \"efficiency\"],\n",
    "    p_nom_extendable=True,\n",
    ")"
   ]
  },
  {
   "cell_type": "markdown",
   "metadata": {},
   "source": [
    "Adding the variable renewable generators works almost identically, but we also need to supply the capacity factors to the model via the attribute `p_max_pu`."
   ]
  },
  {
   "cell_type": "code",
   "execution_count": 108,
   "metadata": {},
   "outputs": [],
   "source": [
    "for tech in [\"onwind\", \"offwind\", \"solar\"]:\n",
    "    n.add(\n",
    "        \"Generator\",\n",
    "        tech,\n",
    "        bus=\"electricity\",\n",
    "        carrier=tech,\n",
    "        p_max_pu=ts[tech],\n",
    "        capital_cost=costs.at[tech, \"capital_cost\"],\n",
    "        marginal_cost=costs.at[tech, \"marginal_cost\"],\n",
    "        efficiency=costs.at[tech, \"efficiency\"],\n",
    "        p_nom_extendable=True,\n",
    "    )"
   ]
  },
  {
   "cell_type": "markdown",
   "metadata": {},
   "source": [
    "So let's make sure the capacity factors are read-in correctly."
   ]
  },
  {
   "cell_type": "code",
   "execution_count": 109,
   "metadata": {},
   "outputs": [
    {
     "data": {
      "text/plain": [
       "<Axes: xlabel='snapshot', ylabel='CF'>"
      ]
     },
     "execution_count": 109,
     "metadata": {},
     "output_type": "execute_result"
    },
    {
     "data": {
      "image/png": "[encoded data removed]",
      "text/plain": [
       "<Figure size 600x200 with 1 Axes>"
      ]
     },
     "metadata": {},
     "output_type": "display_data"
    }
   ],
   "source": [
    "n.generators_t.p_max_pu.loc[\"2015-03\"].plot(figsize=(6, 2), ylabel=\"CF\")"
   ]
  },
  {
   "cell_type": "markdown",
   "metadata": {},
   "source": [
    "### Model Run"
   ]
  },
  {
   "cell_type": "markdown",
   "metadata": {},
   "source": [
    "Then, we can already solve the model for the first time. At this stage, the model does not have any storage or emission limits implemented. It's going to look for the least-cost combination of variable renewables and the gas turbine to supply demand."
   ]
  },
  {
   "cell_type": "code",
   "execution_count": 110,
   "metadata": {},
   "outputs": [
    {
     "name": "stderr",
     "output_type": "stream",
     "text": [
      "/Users/nicholasabad/miniconda3/envs/esm/lib/python3.11/site-packages/xarray/core/utils.py:494: FutureWarning:\n",
      "\n",
      "The return type of `Dataset.dims` will be changed to return a set of dimension names in future, in order to be more consistent with `DataArray.dims`. To access a mapping from dimension names to lengths, please use `Dataset.sizes`.\n",
      "\n",
      "/Users/nicholasabad/miniconda3/envs/esm/lib/python3.11/site-packages/xarray/core/utils.py:494: FutureWarning:\n",
      "\n",
      "The return type of `Dataset.dims` will be changed to return a set of dimension names in future, in order to be more consistent with `DataArray.dims`. To access a mapping from dimension names to lengths, please use `Dataset.sizes`.\n",
      "\n",
      "/Users/nicholasabad/miniconda3/envs/esm/lib/python3.11/site-packages/xarray/core/utils.py:494: FutureWarning:\n",
      "\n",
      "The return type of `Dataset.dims` will be changed to return a set of dimension names in future, in order to be more consistent with `DataArray.dims`. To access a mapping from dimension names to lengths, please use `Dataset.sizes`.\n",
      "\n",
      "/Users/nicholasabad/miniconda3/envs/esm/lib/python3.11/site-packages/xarray/core/utils.py:494: FutureWarning:\n",
      "\n",
      "The return type of `Dataset.dims` will be changed to return a set of dimension names in future, in order to be more consistent with `DataArray.dims`. To access a mapping from dimension names to lengths, please use `Dataset.sizes`.\n",
      "\n",
      "/Users/nicholasabad/miniconda3/envs/esm/lib/python3.11/site-packages/xarray/core/utils.py:494: FutureWarning:\n",
      "\n",
      "The return type of `Dataset.dims` will be changed to return a set of dimension names in future, in order to be more consistent with `DataArray.dims`. To access a mapping from dimension names to lengths, please use `Dataset.sizes`.\n",
      "\n",
      "/Users/nicholasabad/miniconda3/envs/esm/lib/python3.11/site-packages/xarray/core/utils.py:494: FutureWarning:\n",
      "\n",
      "The return type of `Dataset.dims` will be changed to return a set of dimension names in future, in order to be more consistent with `DataArray.dims`. To access a mapping from dimension names to lengths, please use `Dataset.sizes`.\n",
      "\n",
      "/Users/nicholasabad/miniconda3/envs/esm/lib/python3.11/site-packages/xarray/core/utils.py:494: FutureWarning:\n",
      "\n",
      "The return type of `Dataset.dims` will be changed to return a set of dimension names in future, in order to be more consistent with `DataArray.dims`. To access a mapping from dimension names to lengths, please use `Dataset.sizes`.\n",
      "\n",
      "/Users/nicholasabad/miniconda3/envs/esm/lib/python3.11/site-packages/xarray/core/utils.py:494: FutureWarning:\n",
      "\n",
      "The return type of `Dataset.dims` will be changed to return a set of dimension names in future, in order to be more consistent with `DataArray.dims`. To access a mapping from dimension names to lengths, please use `Dataset.sizes`.\n",
      "\n",
      "/Users/nicholasabad/miniconda3/envs/esm/lib/python3.11/site-packages/xarray/core/utils.py:494: FutureWarning:\n",
      "\n",
      "The return type of `Dataset.dims` will be changed to return a set of dimension names in future, in order to be more consistent with `DataArray.dims`. To access a mapping from dimension names to lengths, please use `Dataset.sizes`.\n",
      "\n",
      "/Users/nicholasabad/miniconda3/envs/esm/lib/python3.11/site-packages/xarray/core/utils.py:494: FutureWarning:\n",
      "\n",
      "The return type of `Dataset.dims` will be changed to return a set of dimension names in future, in order to be more consistent with `DataArray.dims`. To access a mapping from dimension names to lengths, please use `Dataset.sizes`.\n",
      "\n",
      "/Users/nicholasabad/miniconda3/envs/esm/lib/python3.11/site-packages/xarray/core/utils.py:494: FutureWarning:\n",
      "\n",
      "The return type of `Dataset.dims` will be changed to return a set of dimension names in future, in order to be more consistent with `DataArray.dims`. To access a mapping from dimension names to lengths, please use `Dataset.sizes`.\n",
      "\n",
      "/Users/nicholasabad/miniconda3/envs/esm/lib/python3.11/site-packages/xarray/core/utils.py:494: FutureWarning:\n",
      "\n",
      "The return type of `Dataset.dims` will be changed to return a set of dimension names in future, in order to be more consistent with `DataArray.dims`. To access a mapping from dimension names to lengths, please use `Dataset.sizes`.\n",
      "\n",
      "/Users/nicholasabad/miniconda3/envs/esm/lib/python3.11/site-packages/xarray/core/utils.py:494: FutureWarning:\n",
      "\n",
      "The return type of `Dataset.dims` will be changed to return a set of dimension names in future, in order to be more consistent with `DataArray.dims`. To access a mapping from dimension names to lengths, please use `Dataset.sizes`.\n",
      "\n",
      "/Users/nicholasabad/miniconda3/envs/esm/lib/python3.11/site-packages/xarray/core/utils.py:494: FutureWarning:\n",
      "\n",
      "The return type of `Dataset.dims` will be changed to return a set of dimension names in future, in order to be more consistent with `DataArray.dims`. To access a mapping from dimension names to lengths, please use `Dataset.sizes`.\n",
      "\n",
      "INFO:linopy.model: Solve problem using Highs solver\n",
      "INFO:linopy.io: Writing time: 0.06s\n",
      "INFO:linopy.solvers:Log file at /private/var/folders/2s/38kg81v526j7qcgd8gdq8jd00000gn/T/highs.log.\n",
      "INFO:linopy.constants: Optimization successful: \n",
      "Status: ok\n",
      "Termination condition: optimal\n",
      "Solution: 8764 primals, 19714 duals\n",
      "Objective: 2.97e+10\n",
      "Solver model: available\n",
      "Solver message: optimal\n",
      "\n",
      "INFO:pypsa.optimization.optimize:The shadow-prices of the constraints Generator-ext-p-lower, Generator-ext-p-upper were not assigned to the network.\n"
     ]
    },
    {
     "name": "stdout",
     "output_type": "stream",
     "text": [
      "Running HiGHS 1.5.3 [date: 2023-05-16, git hash: 594fa5a9d]\n",
      "Copyright (c) 2023 HiGHS under MIT licence terms\n",
      "Presolving model\n",
      "9900 rows, 7714 cols, 23130 nonzeros\n",
      "9900 rows, 7714 cols, 23130 nonzeros\n",
      "Presolve : Reductions: rows 9900(-9814); columns 7714(-1050); elements 23130(-10864)\n",
      "Solving the presolved LP\n",
      "Using EKK dual simplex solver - serial\n",
      "  Iteration        Objective     Infeasibilities num(sum)\n",
      "          0     0.0000000000e+00 Pr: 2190(1.18969e+09) 0s\n",
      "       7503     2.9707818396e+10 Pr: 0(0) 0s\n",
      "Solving the original LP from the solution after postsolve\n",
      "Model   status      : Optimal\n",
      "Simplex   iterations: 7503\n",
      "Objective value     :  2.9707818396e+10\n",
      "HiGHS run time      :          0.11\n"
     ]
    },
    {
     "data": {
      "text/plain": [
       "('ok', 'optimal')"
      ]
     },
     "execution_count": 110,
     "metadata": {},
     "output_type": "execute_result"
    }
   ],
   "source": [
    "n.optimize(solver_name=\"highs\")"
   ]
  },
  {
   "cell_type": "markdown",
   "metadata": {},
   "source": [
    "### Model Evaluation"
   ]
  },
  {
   "cell_type": "markdown",
   "metadata": {},
   "source": [
    "The total system cost in billion Euros per year:"
   ]
  },
  {
   "cell_type": "code",
   "execution_count": 111,
   "metadata": {},
   "outputs": [
    {
     "data": {
      "text/plain": [
       "29.70781839594502"
      ]
     },
     "execution_count": 111,
     "metadata": {},
     "output_type": "execute_result"
    }
   ],
   "source": [
    "n.objective / 1e9"
   ]
  },
  {
   "cell_type": "markdown",
   "metadata": {},
   "source": [
    "The optimised capacities in GW:"
   ]
  },
  {
   "cell_type": "code",
   "execution_count": 112,
   "metadata": {},
   "outputs": [
    {
     "data": {
      "text/plain": [
       "Generator\n",
       "OCGT       70.032006\n",
       "onwind     -0.000000\n",
       "offwind    54.515679\n",
       "solar      88.042846\n",
       "Name: p_nom_opt, dtype: float64"
      ]
     },
     "execution_count": 112,
     "metadata": {},
     "output_type": "execute_result"
    }
   ],
   "source": [
    "n.generators.p_nom_opt.div(1e3)  # GW"
   ]
  },
  {
   "cell_type": "markdown",
   "metadata": {},
   "source": [
    "The total energy generation by technology in GW:"
   ]
  },
  {
   "cell_type": "code",
   "execution_count": 113,
   "metadata": {},
   "outputs": [
    {
     "data": {
      "text/plain": [
       "Generator\n",
       "OCGT       220.726908\n",
       "onwind       0.000000\n",
       "offwind    163.375462\n",
       "solar       94.823370\n",
       "Name: generators, dtype: float64"
      ]
     },
     "execution_count": 113,
     "metadata": {},
     "output_type": "execute_result"
    }
   ],
   "source": [
    "n.snapshot_weightings.generators @ n.generators_t.p.div(1e6)  # TWh"
   ]
  },
  {
   "cell_type": "markdown",
   "metadata": {},
   "source": [
    "While we get the objective value through `n.objective`, in many cases we want to know how the costs are distributed across the technologies"
   ]
  },
  {
   "cell_type": "code",
   "execution_count": 114,
   "metadata": {},
   "outputs": [],
   "source": [
    "opex = n.snapshot_weightings.generators @ (\n",
    "    n.generators_t.p * n.generators.marginal_cost\n",
    ").div(\n",
    "    1e6\n",
    ")  # M€/a"
   ]
  },
  {
   "cell_type": "code",
   "execution_count": 115,
   "metadata": {},
   "outputs": [],
   "source": [
    "capex = (n.generators.p_nom_opt * n.generators.capital_cost).div(1e6)  # M€/a"
   ]
  },
  {
   "cell_type": "code",
   "execution_count": 116,
   "metadata": {},
   "outputs": [
    {
     "data": {
      "text/plain": [
       "Generator\n",
       "OCGT       16990.065781\n",
       "onwind         0.000000\n",
       "offwind     8622.248279\n",
       "solar       4095.504337\n",
       "dtype: float64"
      ]
     },
     "execution_count": 116,
     "metadata": {},
     "output_type": "execute_result"
    }
   ],
   "source": [
    "capex + opex"
   ]
  },
  {
   "cell_type": "markdown",
   "metadata": {},
   "source": [
    "If you have the newest version of PyPSA installed, you can also run the following to determine the total system cost by technology:"
   ]
  },
  {
   "cell_type": "code",
   "execution_count": 117,
   "metadata": {},
   "outputs": [
    {
     "data": {
      "text/plain": [
       "component  carrier\n",
       "Generator  OCGT       16990.065781\n",
       "           offwind     8622.248279\n",
       "           onwind              NaN\n",
       "           solar       4095.504337\n",
       "dtype: float64"
      ]
     },
     "execution_count": 117,
     "metadata": {},
     "output_type": "execute_result"
    }
   ],
   "source": [
    "(n.statistics.capex() + n.statistics.opex(aggregate_time=\"sum\")).div(1e6)"
   ]
  },
  {
   "cell_type": "markdown",
   "metadata": {},
   "source": [
    "Possibly, we are also interested in the total emissions:"
   ]
  },
  {
   "cell_type": "code",
   "execution_count": 118,
   "metadata": {},
   "outputs": [],
   "source": [
    "emissions = (\n",
    "    n.generators_t.p\n",
    "    / n.generators.efficiency\n",
    "    * n.generators.carrier.map(n.carriers.co2_emissions)\n",
    ")  # t/h"
   ]
  },
  {
   "cell_type": "code",
   "execution_count": 119,
   "metadata": {},
   "outputs": [
    {
     "data": {
      "text/plain": [
       "106.59494598003631"
      ]
     },
     "execution_count": 119,
     "metadata": {},
     "output_type": "execute_result"
    }
   ],
   "source": [
    "n.snapshot_weightings.generators @ emissions.sum(axis=1).div(1e6)  # Mt"
   ]
  },
  {
   "cell_type": "markdown",
   "metadata": {},
   "source": [
    "### Plotting Optimal Dispatch"
   ]
  },
  {
   "cell_type": "markdown",
   "metadata": {},
   "source": [
    "This function takes the network object `n` as an argument and, optionally, a time frame. We want to plot the load time series, and stacked area charts for electricity feed-in and storage charging. Technologies should be coloured by their color defined in `n.carriers`."
   ]
  },
  {
   "cell_type": "code",
   "execution_count": 120,
   "metadata": {},
   "outputs": [],
   "source": [
    "def plot_dispatch(n, time=\"2015-07\"):\n",
    "    p_by_carrier = n.generators_t.p.groupby(n.generators.carrier, axis=1).sum().div(1e3)\n",
    "\n",
    "    if not n.storage_units.empty:\n",
    "        sto = (\n",
    "            n.storage_units_t.p.groupby(n.storage_units.carrier, axis=1).sum().div(1e3)\n",
    "        )\n",
    "        p_by_carrier = pd.concat([p_by_carrier, sto], axis=1)\n",
    "\n",
    "    fig, ax = plt.subplots(figsize=(6, 3))\n",
    "\n",
    "    color = p_by_carrier.columns.map(n.carriers.color)\n",
    "\n",
    "    p_by_carrier.where(p_by_carrier > 0).loc[time].plot.area(\n",
    "        ax=ax,\n",
    "        linewidth=0,\n",
    "        color=color,\n",
    "    )\n",
    "\n",
    "    charge = p_by_carrier.where(p_by_carrier < 0).dropna(how=\"all\", axis=1).loc[time]\n",
    "\n",
    "    if not charge.empty:\n",
    "        charge.plot.area(\n",
    "            ax=ax,\n",
    "            linewidth=0,\n",
    "            color=charge.columns.map(n.carriers.color),\n",
    "        )\n",
    "\n",
    "    n.loads_t.p_set.sum(axis=1).loc[time].div(1e3).plot(ax=ax, c=\"k\")\n",
    "\n",
    "    plt.legend(loc=(1.05, 0))\n",
    "    ax.set_ylabel(\"GW\")\n",
    "    ax.set_ylim(-200, 200)"
   ]
  },
  {
   "cell_type": "markdown",
   "metadata": {},
   "source": [
    "Oje, that was complicated. Let's test it:"
   ]
  },
  {
   "cell_type": "code",
   "execution_count": 121,
   "metadata": {},
   "outputs": [
    {
     "name": "stderr",
     "output_type": "stream",
     "text": [
      "/var/folders/2s/38kg81v526j7qcgd8gdq8jd00000gn/T/ipykernel_53181/1878495093.py:2: FutureWarning:\n",
      "\n",
      "DataFrame.groupby with axis=1 is deprecated. Do `frame.T.groupby(...)` without axis instead.\n",
      "\n"
     ]
    },
    {
     "data": {
      "image/png": "[encoded data removed]",
      "text/plain": [
       "<Figure size 600x300 with 1 Axes>"
      ]
     },
     "metadata": {},
     "output_type": "display_data"
    }
   ],
   "source": [
    "plot_dispatch(n)"
   ]
  },
  {
   "cell_type": "markdown",
   "metadata": {},
   "source": [
    "## Adding Storage Units"
   ]
  },
  {
   "cell_type": "markdown",
   "metadata": {},
   "source": [
    "Alright, but there are a few important components missing for a system with high shares of renewables? What about short-term storage options (e.g. batteries) and long-term storage options (e.g. hydrogen storage)? Let's add them too."
   ]
  },
  {
   "cell_type": "markdown",
   "metadata": {},
   "source": [
    "First, the battery storage. We are going to assume a fixed energy-to-power ratio of 6 hours, i.e. if fully charged, the battery can discharge at full capacity for 6 hours.\n",
    "For the capital cost, we have to factor in both the capacity and energy cost of the storage. We are also going to enforce a cyclic state-of-charge condition, i.e. the state of charge\n",
    "at the beginning of the optimisation period must equal the final state of charge."
   ]
  },
  {
   "cell_type": "code",
   "execution_count": 122,
   "metadata": {},
   "outputs": [],
   "source": [
    "n.add(\n",
    "    \"StorageUnit\",\n",
    "    \"battery storage\",\n",
    "    bus=\"electricity\",\n",
    "    carrier=\"battery storage\",\n",
    "    max_hours=6,\n",
    "    capital_cost=costs.at[\"battery inverter\", \"capital_cost\"]\n",
    "    + 6 * costs.at[\"battery storage\", \"capital_cost\"],\n",
    "    efficiency_store=costs.at[\"battery inverter\", \"efficiency\"],\n",
    "    efficiency_dispatch=costs.at[\"battery inverter\", \"efficiency\"],\n",
    "    p_nom_extendable=True,\n",
    "    cyclic_state_of_charge=True,\n",
    ")"
   ]
  },
  {
   "cell_type": "markdown",
   "metadata": {},
   "source": [
    "Second, the hydrogen storage. This one is composed of an electrolysis to convert electricity to hydrogen, a fuel cell to re-convert hydrogen to electricity and underground storage (e.g. in salt caverns). We assume an energy-to-power ratio of 168 hours, such that this type of storage can be used for weekly balancing."
   ]
  },
  {
   "cell_type": "code",
   "execution_count": 123,
   "metadata": {},
   "outputs": [],
   "source": [
    "capital_costs = (\n",
    "    costs.at[\"electrolysis\", \"capital_cost\"]\n",
    "    + costs.at[\"fuel cell\", \"capital_cost\"]\n",
    "    + 168 * costs.at[\"hydrogen storage underground\", \"capital_cost\"]\n",
    ")\n",
    "\n",
    "n.add(\n",
    "    \"StorageUnit\",\n",
    "    \"hydrogen storage underground\",\n",
    "    bus=\"electricity\",\n",
    "    carrier=\"hydrogen storage underground\",\n",
    "    max_hours=168,\n",
    "    capital_cost=capital_costs,\n",
    "    efficiency_store=costs.at[\"electrolysis\", \"efficiency\"],\n",
    "    efficiency_dispatch=costs.at[\"fuel cell\", \"efficiency\"],\n",
    "    p_nom_extendable=True,\n",
    "    cyclic_state_of_charge=True,\n",
    ")"
   ]
  },
  {
   "cell_type": "markdown",
   "metadata": {},
   "source": [
    "Ok, lets run the again, now with storage, and see what's changed."
   ]
  },
  {
   "cell_type": "code",
   "execution_count": 124,
   "metadata": {
    "tags": [
     "hide-output"
    ]
   },
   "outputs": [
    {
     "name": "stderr",
     "output_type": "stream",
     "text": [
      "/Users/nicholasabad/miniconda3/envs/esm/lib/python3.11/site-packages/xarray/core/utils.py:494: FutureWarning:\n",
      "\n",
      "The return type of `Dataset.dims` will be changed to return a set of dimension names in future, in order to be more consistent with `DataArray.dims`. To access a mapping from dimension names to lengths, please use `Dataset.sizes`.\n",
      "\n",
      "/Users/nicholasabad/miniconda3/envs/esm/lib/python3.11/site-packages/xarray/core/utils.py:494: FutureWarning:\n",
      "\n",
      "The return type of `Dataset.dims` will be changed to return a set of dimension names in future, in order to be more consistent with `DataArray.dims`. To access a mapping from dimension names to lengths, please use `Dataset.sizes`.\n",
      "\n",
      "/Users/nicholasabad/miniconda3/envs/esm/lib/python3.11/site-packages/xarray/core/utils.py:494: FutureWarning:\n",
      "\n",
      "The return type of `Dataset.dims` will be changed to return a set of dimension names in future, in order to be more consistent with `DataArray.dims`. To access a mapping from dimension names to lengths, please use `Dataset.sizes`.\n",
      "\n",
      "/Users/nicholasabad/miniconda3/envs/esm/lib/python3.11/site-packages/xarray/core/utils.py:494: FutureWarning:\n",
      "\n",
      "The return type of `Dataset.dims` will be changed to return a set of dimension names in future, in order to be more consistent with `DataArray.dims`. To access a mapping from dimension names to lengths, please use `Dataset.sizes`.\n",
      "\n",
      "/Users/nicholasabad/miniconda3/envs/esm/lib/python3.11/site-packages/xarray/core/utils.py:494: FutureWarning:\n",
      "\n",
      "The return type of `Dataset.dims` will be changed to return a set of dimension names in future, in order to be more consistent with `DataArray.dims`. To access a mapping from dimension names to lengths, please use `Dataset.sizes`.\n",
      "\n",
      "/Users/nicholasabad/miniconda3/envs/esm/lib/python3.11/site-packages/xarray/core/utils.py:494: FutureWarning:\n",
      "\n",
      "The return type of `Dataset.dims` will be changed to return a set of dimension names in future, in order to be more consistent with `DataArray.dims`. To access a mapping from dimension names to lengths, please use `Dataset.sizes`.\n",
      "\n",
      "/Users/nicholasabad/miniconda3/envs/esm/lib/python3.11/site-packages/xarray/core/utils.py:494: FutureWarning:\n",
      "\n",
      "The return type of `Dataset.dims` will be changed to return a set of dimension names in future, in order to be more consistent with `DataArray.dims`. To access a mapping from dimension names to lengths, please use `Dataset.sizes`.\n",
      "\n",
      "/Users/nicholasabad/miniconda3/envs/esm/lib/python3.11/site-packages/xarray/core/utils.py:494: FutureWarning:\n",
      "\n",
      "The return type of `Dataset.dims` will be changed to return a set of dimension names in future, in order to be more consistent with `DataArray.dims`. To access a mapping from dimension names to lengths, please use `Dataset.sizes`.\n",
      "\n",
      "/Users/nicholasabad/miniconda3/envs/esm/lib/python3.11/site-packages/xarray/core/utils.py:494: FutureWarning:\n",
      "\n",
      "The return type of `Dataset.dims` will be changed to return a set of dimension names in future, in order to be more consistent with `DataArray.dims`. To access a mapping from dimension names to lengths, please use `Dataset.sizes`.\n",
      "\n",
      "/Users/nicholasabad/miniconda3/envs/esm/lib/python3.11/site-packages/xarray/core/utils.py:494: FutureWarning:\n",
      "\n",
      "The return type of `Dataset.dims` will be changed to return a set of dimension names in future, in order to be more consistent with `DataArray.dims`. To access a mapping from dimension names to lengths, please use `Dataset.sizes`.\n",
      "\n",
      "/Users/nicholasabad/miniconda3/envs/esm/lib/python3.11/site-packages/xarray/core/utils.py:494: FutureWarning:\n",
      "\n",
      "The return type of `Dataset.dims` will be changed to return a set of dimension names in future, in order to be more consistent with `DataArray.dims`. To access a mapping from dimension names to lengths, please use `Dataset.sizes`.\n",
      "\n",
      "/Users/nicholasabad/miniconda3/envs/esm/lib/python3.11/site-packages/xarray/core/utils.py:494: FutureWarning:\n",
      "\n",
      "The return type of `Dataset.dims` will be changed to return a set of dimension names in future, in order to be more consistent with `DataArray.dims`. To access a mapping from dimension names to lengths, please use `Dataset.sizes`.\n",
      "\n",
      "/Users/nicholasabad/miniconda3/envs/esm/lib/python3.11/site-packages/xarray/core/utils.py:494: FutureWarning:\n",
      "\n",
      "The return type of `Dataset.dims` will be changed to return a set of dimension names in future, in order to be more consistent with `DataArray.dims`. To access a mapping from dimension names to lengths, please use `Dataset.sizes`.\n",
      "\n",
      "/Users/nicholasabad/miniconda3/envs/esm/lib/python3.11/site-packages/xarray/core/utils.py:494: FutureWarning:\n",
      "\n",
      "The return type of `Dataset.dims` will be changed to return a set of dimension names in future, in order to be more consistent with `DataArray.dims`. To access a mapping from dimension names to lengths, please use `Dataset.sizes`.\n",
      "\n",
      "/Users/nicholasabad/miniconda3/envs/esm/lib/python3.11/site-packages/xarray/core/utils.py:494: FutureWarning:\n",
      "\n",
      "The return type of `Dataset.dims` will be changed to return a set of dimension names in future, in order to be more consistent with `DataArray.dims`. To access a mapping from dimension names to lengths, please use `Dataset.sizes`.\n",
      "\n",
      "/Users/nicholasabad/miniconda3/envs/esm/lib/python3.11/site-packages/xarray/core/utils.py:494: FutureWarning:\n",
      "\n",
      "The return type of `Dataset.dims` will be changed to return a set of dimension names in future, in order to be more consistent with `DataArray.dims`. To access a mapping from dimension names to lengths, please use `Dataset.sizes`.\n",
      "\n",
      "/Users/nicholasabad/miniconda3/envs/esm/lib/python3.11/site-packages/xarray/core/utils.py:494: FutureWarning:\n",
      "\n",
      "The return type of `Dataset.dims` will be changed to return a set of dimension names in future, in order to be more consistent with `DataArray.dims`. To access a mapping from dimension names to lengths, please use `Dataset.sizes`.\n",
      "\n",
      "/Users/nicholasabad/miniconda3/envs/esm/lib/python3.11/site-packages/xarray/core/utils.py:494: FutureWarning:\n",
      "\n",
      "The return type of `Dataset.dims` will be changed to return a set of dimension names in future, in order to be more consistent with `DataArray.dims`. To access a mapping from dimension names to lengths, please use `Dataset.sizes`.\n",
      "\n",
      "/Users/nicholasabad/miniconda3/envs/esm/lib/python3.11/site-packages/xarray/core/utils.py:494: FutureWarning:\n",
      "\n",
      "The return type of `Dataset.dims` will be changed to return a set of dimension names in future, in order to be more consistent with `DataArray.dims`. To access a mapping from dimension names to lengths, please use `Dataset.sizes`.\n",
      "\n",
      "/Users/nicholasabad/miniconda3/envs/esm/lib/python3.11/site-packages/xarray/core/utils.py:494: FutureWarning:\n",
      "\n",
      "The return type of `Dataset.dims` will be changed to return a set of dimension names in future, in order to be more consistent with `DataArray.dims`. To access a mapping from dimension names to lengths, please use `Dataset.sizes`.\n",
      "\n",
      "/Users/nicholasabad/miniconda3/envs/esm/lib/python3.11/site-packages/xarray/core/utils.py:494: FutureWarning:\n",
      "\n",
      "The return type of `Dataset.dims` will be changed to return a set of dimension names in future, in order to be more consistent with `DataArray.dims`. To access a mapping from dimension names to lengths, please use `Dataset.sizes`.\n",
      "\n",
      "/Users/nicholasabad/miniconda3/envs/esm/lib/python3.11/site-packages/xarray/core/utils.py:494: FutureWarning:\n",
      "\n",
      "The return type of `Dataset.dims` will be changed to return a set of dimension names in future, in order to be more consistent with `DataArray.dims`. To access a mapping from dimension names to lengths, please use `Dataset.sizes`.\n",
      "\n",
      "/Users/nicholasabad/miniconda3/envs/esm/lib/python3.11/site-packages/xarray/core/utils.py:494: FutureWarning:\n",
      "\n",
      "The return type of `Dataset.dims` will be changed to return a set of dimension names in future, in order to be more consistent with `DataArray.dims`. To access a mapping from dimension names to lengths, please use `Dataset.sizes`.\n",
      "\n",
      "/Users/nicholasabad/miniconda3/envs/esm/lib/python3.11/site-packages/xarray/core/utils.py:494: FutureWarning:\n",
      "\n",
      "The return type of `Dataset.dims` will be changed to return a set of dimension names in future, in order to be more consistent with `DataArray.dims`. To access a mapping from dimension names to lengths, please use `Dataset.sizes`.\n",
      "\n",
      "/Users/nicholasabad/miniconda3/envs/esm/lib/python3.11/site-packages/xarray/core/utils.py:494: FutureWarning:\n",
      "\n",
      "The return type of `Dataset.dims` will be changed to return a set of dimension names in future, in order to be more consistent with `DataArray.dims`. To access a mapping from dimension names to lengths, please use `Dataset.sizes`.\n",
      "\n",
      "/Users/nicholasabad/miniconda3/envs/esm/lib/python3.11/site-packages/xarray/core/utils.py:494: FutureWarning:\n",
      "\n",
      "The return type of `Dataset.dims` will be changed to return a set of dimension names in future, in order to be more consistent with `DataArray.dims`. To access a mapping from dimension names to lengths, please use `Dataset.sizes`.\n",
      "\n",
      "/Users/nicholasabad/miniconda3/envs/esm/lib/python3.11/site-packages/xarray/core/utils.py:494: FutureWarning:\n",
      "\n",
      "The return type of `Dataset.dims` will be changed to return a set of dimension names in future, in order to be more consistent with `DataArray.dims`. To access a mapping from dimension names to lengths, please use `Dataset.sizes`.\n",
      "\n",
      "/Users/nicholasabad/miniconda3/envs/esm/lib/python3.11/site-packages/xarray/core/utils.py:494: FutureWarning:\n",
      "\n",
      "The return type of `Dataset.dims` will be changed to return a set of dimension names in future, in order to be more consistent with `DataArray.dims`. To access a mapping from dimension names to lengths, please use `Dataset.sizes`.\n",
      "\n",
      "/Users/nicholasabad/miniconda3/envs/esm/lib/python3.11/site-packages/xarray/core/utils.py:494: FutureWarning:\n",
      "\n",
      "The return type of `Dataset.dims` will be changed to return a set of dimension names in future, in order to be more consistent with `DataArray.dims`. To access a mapping from dimension names to lengths, please use `Dataset.sizes`.\n",
      "\n",
      "/Users/nicholasabad/miniconda3/envs/esm/lib/python3.11/site-packages/xarray/core/utils.py:494: FutureWarning:\n",
      "\n",
      "The return type of `Dataset.dims` will be changed to return a set of dimension names in future, in order to be more consistent with `DataArray.dims`. To access a mapping from dimension names to lengths, please use `Dataset.sizes`.\n",
      "\n",
      "/Users/nicholasabad/miniconda3/envs/esm/lib/python3.11/site-packages/xarray/core/utils.py:494: FutureWarning:\n",
      "\n",
      "The return type of `Dataset.dims` will be changed to return a set of dimension names in future, in order to be more consistent with `DataArray.dims`. To access a mapping from dimension names to lengths, please use `Dataset.sizes`.\n",
      "\n",
      "/Users/nicholasabad/miniconda3/envs/esm/lib/python3.11/site-packages/xarray/core/utils.py:494: FutureWarning:\n",
      "\n",
      "The return type of `Dataset.dims` will be changed to return a set of dimension names in future, in order to be more consistent with `DataArray.dims`. To access a mapping from dimension names to lengths, please use `Dataset.sizes`.\n",
      "\n",
      "/Users/nicholasabad/miniconda3/envs/esm/lib/python3.11/site-packages/xarray/core/utils.py:494: FutureWarning:\n",
      "\n",
      "The return type of `Dataset.dims` will be changed to return a set of dimension names in future, in order to be more consistent with `DataArray.dims`. To access a mapping from dimension names to lengths, please use `Dataset.sizes`.\n",
      "\n",
      "/Users/nicholasabad/miniconda3/envs/esm/lib/python3.11/site-packages/xarray/core/utils.py:494: FutureWarning:\n",
      "\n",
      "The return type of `Dataset.dims` will be changed to return a set of dimension names in future, in order to be more consistent with `DataArray.dims`. To access a mapping from dimension names to lengths, please use `Dataset.sizes`.\n",
      "\n",
      "/Users/nicholasabad/miniconda3/envs/esm/lib/python3.11/site-packages/xarray/core/utils.py:494: FutureWarning:\n",
      "\n",
      "The return type of `Dataset.dims` will be changed to return a set of dimension names in future, in order to be more consistent with `DataArray.dims`. To access a mapping from dimension names to lengths, please use `Dataset.sizes`.\n",
      "\n",
      "/Users/nicholasabad/miniconda3/envs/esm/lib/python3.11/site-packages/xarray/core/utils.py:494: FutureWarning:\n",
      "\n",
      "The return type of `Dataset.dims` will be changed to return a set of dimension names in future, in order to be more consistent with `DataArray.dims`. To access a mapping from dimension names to lengths, please use `Dataset.sizes`.\n",
      "\n",
      "/Users/nicholasabad/miniconda3/envs/esm/lib/python3.11/site-packages/xarray/core/utils.py:494: FutureWarning:\n",
      "\n",
      "The return type of `Dataset.dims` will be changed to return a set of dimension names in future, in order to be more consistent with `DataArray.dims`. To access a mapping from dimension names to lengths, please use `Dataset.sizes`.\n",
      "\n",
      "/Users/nicholasabad/miniconda3/envs/esm/lib/python3.11/site-packages/xarray/core/utils.py:494: FutureWarning:\n",
      "\n",
      "The return type of `Dataset.dims` will be changed to return a set of dimension names in future, in order to be more consistent with `DataArray.dims`. To access a mapping from dimension names to lengths, please use `Dataset.sizes`.\n",
      "\n",
      "/Users/nicholasabad/miniconda3/envs/esm/lib/python3.11/site-packages/xarray/core/utils.py:494: FutureWarning:\n",
      "\n",
      "The return type of `Dataset.dims` will be changed to return a set of dimension names in future, in order to be more consistent with `DataArray.dims`. To access a mapping from dimension names to lengths, please use `Dataset.sizes`.\n",
      "\n",
      "INFO:linopy.model: Solve problem using Highs solver\n",
      "INFO:linopy.io:Writing objective.\n",
      "Writing constraints.: 100%|\u001b[38;2;128;191;255m██████████\u001b[0m| 14/14 [00:00<00:00, 119.18it/s]\n",
      "Writing continuous variables.: 100%|\u001b[38;2;128;191;255m██████████\u001b[0m| 7/7 [00:00<00:00, 351.28it/s]\n",
      "INFO:linopy.io: Writing time: 0.17s\n",
      "INFO:linopy.solvers:Log file at /private/var/folders/2s/38kg81v526j7qcgd8gdq8jd00000gn/T/highs.log.\n"
     ]
    },
    {
     "name": "stdout",
     "output_type": "stream",
     "text": [
      "Running HiGHS 1.5.3 [date: 2023-05-16, git hash: 594fa5a9d]\n",
      "Copyright (c) 2023 HiGHS under MIT licence terms\n",
      "Presolving model\n",
      "27420 rows, 20856 cols, 75690 nonzeros\n",
      "27420 rows, 20856 cols, 75690 nonzeros\n",
      "Presolve : Reductions: rows 27420(-22956); columns 20856(-1050); elements 75690(-24006)\n",
      "Solving the presolved LP\n",
      "Using EKK dual simplex solver - serial\n",
      "  Iteration        Objective     Infeasibilities num(sum)\n",
      "          0     0.0000000000e+00 Pr: 2190(1.43191e+09) 0s\n",
      "      25790     2.9707818396e+10 Pr: 0(0) 2s\n",
      "Solving the original LP from the solution after postsolve\n",
      "Model   status      : Optimal\n",
      "Simplex   iterations: 25790\n",
      "Objective value     :  2.9707818396e+10\n",
      "HiGHS run time      :          2.27\n"
     ]
    },
    {
     "name": "stderr",
     "output_type": "stream",
     "text": [
      "INFO:linopy.constants: Optimization successful: \n",
      "Status: ok\n",
      "Termination condition: optimal\n",
      "Solution: 21906 primals, 50376 duals\n",
      "Objective: 2.97e+10\n",
      "Solver model: available\n",
      "Solver message: optimal\n",
      "\n",
      "INFO:pypsa.optimization.optimize:The shadow-prices of the constraints Generator-ext-p-lower, Generator-ext-p-upper, StorageUnit-ext-p_dispatch-lower, StorageUnit-ext-p_dispatch-upper, StorageUnit-ext-p_store-lower, StorageUnit-ext-p_store-upper, StorageUnit-ext-state_of_charge-lower, StorageUnit-ext-state_of_charge-upper, StorageUnit-energy_balance were not assigned to the network.\n"
     ]
    },
    {
     "data": {
      "text/plain": [
       "('ok', 'optimal')"
      ]
     },
     "execution_count": 124,
     "metadata": {},
     "output_type": "execute_result"
    }
   ],
   "source": [
    "n.optimize(solver_name=\"highs\")"
   ]
  },
  {
   "cell_type": "code",
   "execution_count": null,
   "metadata": {},
   "outputs": [],
   "source": [
    "n.generators.p_nom_opt  # MW"
   ]
  },
  {
   "cell_type": "code",
   "execution_count": null,
   "metadata": {},
   "outputs": [],
   "source": [
    "n.storage_units.p_nom_opt  # MW"
   ]
  },
  {
   "cell_type": "markdown",
   "metadata": {},
   "source": [
    "**Nothing!** The objective value is the same, and no storage is built."
   ]
  },
  {
   "cell_type": "markdown",
   "metadata": {},
   "source": [
    "### Adding emission limits"
   ]
  },
  {
   "cell_type": "markdown",
   "metadata": {},
   "source": [
    "The gas power plant offers sufficient and cheap enough backup capacity to run in periods of low wind and solar generation. But what happens if this source of flexibility disappears. Let's model a 100% renewable electricity system by adding a CO$_2$ emission limit as global constraint:"
   ]
  },
  {
   "cell_type": "code",
   "execution_count": null,
   "metadata": {},
   "outputs": [],
   "source": [
    "n.add(\n",
    "    \"GlobalConstraint\",\n",
    "    \"CO2Limit\",\n",
    "    carrier_attribute=\"co2_emissions\",\n",
    "    sense=\"<=\",\n",
    "    constant=0,\n",
    ")"
   ]
  },
  {
   "cell_type": "markdown",
   "metadata": {},
   "source": [
    "When we run the model now..."
   ]
  },
  {
   "cell_type": "code",
   "execution_count": null,
   "metadata": {
    "tags": [
     "hide-output"
    ]
   },
   "outputs": [],
   "source": [
    "n.optimize(solver_name=\"highs\")"
   ]
  },
  {
   "cell_type": "markdown",
   "metadata": {},
   "source": [
    "...and inspect the capacities built..."
   ]
  },
  {
   "cell_type": "code",
   "execution_count": null,
   "metadata": {},
   "outputs": [],
   "source": [
    "n.generators.p_nom_opt  # MW"
   ]
  },
  {
   "cell_type": "code",
   "execution_count": null,
   "metadata": {},
   "outputs": [],
   "source": [
    "n.storage_units.p_nom_opt  # MW"
   ]
  },
  {
   "cell_type": "code",
   "execution_count": null,
   "metadata": {},
   "outputs": [],
   "source": [
    "n.storage_units.p_nom_opt.div(1e3) * n.storage_units.max_hours  # GWh"
   ]
  },
  {
   "cell_type": "markdown",
   "metadata": {},
   "source": [
    "... we see quite a bit of storage. So how does the optimised dispatch of the system look like?"
   ]
  },
  {
   "cell_type": "code",
   "execution_count": null,
   "metadata": {},
   "outputs": [],
   "source": [
    "plot_dispatch(n)"
   ]
  },
  {
   "cell_type": "markdown",
   "metadata": {},
   "source": [
    "We are also keen to see what technologies constitute the largest cost components. For that we're going to define a small helper function:"
   ]
  },
  {
   "cell_type": "code",
   "execution_count": null,
   "metadata": {},
   "outputs": [],
   "source": [
    "def system_cost(n):\n",
    "    tsc = n.statistics.capex() + n.statistics.opex(aggregate_time=\"sum\")\n",
    "    return tsc.droplevel(0).div(1e6)  # million €/a"
   ]
  },
  {
   "cell_type": "code",
   "execution_count": null,
   "metadata": {},
   "outputs": [],
   "source": [
    "system_cost(n)"
   ]
  },
  {
   "cell_type": "markdown",
   "metadata": {},
   "source": [
    "This series, we can then process into plots, e.g. a pie chart:"
   ]
  },
  {
   "cell_type": "code",
   "execution_count": null,
   "metadata": {},
   "outputs": [],
   "source": [
    "system_cost(n).plot.pie(figsize=(2, 2))"
   ]
  },
  {
   "cell_type": "markdown",
   "metadata": {},
   "source": [
    "or use to compute the cost per unit of electricity consumed:"
   ]
  },
  {
   "cell_type": "code",
   "execution_count": null,
   "metadata": {},
   "outputs": [],
   "source": [
    "demand = n.snapshot_weightings.generators @ n.loads_t.p_set.sum(axis=1)"
   ]
  },
  {
   "cell_type": "code",
   "execution_count": null,
   "metadata": {},
   "outputs": [],
   "source": [
    "system_cost(n).sum() * 1e6 / demand.sum()"
   ]
  },
  {
   "cell_type": "markdown",
   "metadata": {},
   "source": [
    ":::{warning}\n",
    "Always consider, that the load data is given in units of power (MW) and if your resolution is not hourly, you need to multiply by the snapshot weighting to get the energy consumed!\n",
    ":::"
   ]
  },
  {
   "cell_type": "markdown",
   "metadata": {
    "tags": []
   },
   "source": [
    "## Sensitivity Analysis"
   ]
  },
  {
   "cell_type": "markdown",
   "metadata": {},
   "source": [
    "Sensitivity analyses constitute a core activity of energy system modelling. Below, you can find sensitivity analyses regarding the\n",
    "\n",
    "1. variation in allowed CO$_2$ emissions\n",
    "2. variation in solar overnight costs\n",
    "3. variation in offshore wind potentials"
   ]
  },
  {
   "cell_type": "code",
   "execution_count": null,
   "metadata": {
    "tags": [
     "hide-output"
    ]
   },
   "outputs": [],
   "source": [
    "sensitivity = {}\n",
    "for co2 in [150, 100, 50, 25, 0]:\n",
    "    n.global_constraints.loc[\"CO2Limit\", \"constant\"] = co2 * 1e6\n",
    "    n.optimize(solver_name=\"highs\")\n",
    "    sensitivity[co2] = system_cost(n)"
   ]
  },
  {
   "cell_type": "code",
   "execution_count": null,
   "metadata": {},
   "outputs": [],
   "source": [
    "df = pd.DataFrame(sensitivity).T.div(1e3)  # billion Euro/a\n",
    "df.plot.area(\n",
    "    stacked=True,\n",
    "    linewidth=0,\n",
    "    color=df.columns.map(n.carriers.color),\n",
    "    figsize=(4, 4),\n",
    "    xlim=(0, 150),\n",
    "    xlabel=r\"CO$_2$ emissions [Mt/a]\",\n",
    "    ylabel=\"System cost [bn€/a]\",\n",
    "    ylim=(0, 100),\n",
    ")\n",
    "plt.legend(frameon=False, loc=(1.05, 0))"
   ]
  },
  {
   "cell_type": "raw",
   "metadata": {},
   "source": [
    "sensitivity = {}\n",
    "for solar_cost in [0, 20, 40, 60, 80, 100, 150]:\n",
    "    n.generators.loc[\"solar\", \"capital_cost\"] = solar_cost * 1e3\n",
    "    n.optimize(solver_name='highs')\n",
    "    sensitivity[solar_cost] = system_cost(n)\n",
    "n.generators.loc[\"solar\", \"capital_cost\"] = 40 * 1e3"
   ]
  },
  {
   "cell_type": "raw",
   "metadata": {},
   "source": [
    "df = pd.DataFrame(sensitivity).T.div(1e3) # billion Euro/a\n",
    "df.plot.area(\n",
    "    stacked=True,\n",
    "    linewidth=0,\n",
    "    color=df.columns.map(n.carriers.color),\n",
    "    figsize=(4,4),\n",
    "    xlim=(0,150),\n",
    "    xlabel=\"Solar Capital Cost [€/MW/a]\",\n",
    "    ylabel=\"System cost [bn€/a]\",\n",
    "    ylim=(0,100),\n",
    ")"
   ]
  },
  {
   "cell_type": "raw",
   "metadata": {},
   "source": [
    "sensitivity = {}\n",
    "for offwind_potential in [0, 50, 100, 150]:\n",
    "    n.generators.loc[\"offwind\", \"p_nom_max\"] = offwind_potential * 1e3\n",
    "    n.optimize(solver_name='highs')\n",
    "    sensitivity[offwind_potential] = system_cost(n)"
   ]
  },
  {
   "cell_type": "raw",
   "metadata": {
    "tags": [
     "hide-cell"
    ]
   },
   "source": [
    "df = pd.DataFrame(sensitivity).T.div(1e3) # billion Euro/a\n",
    "df.plot.area(\n",
    "    stacked=True,\n",
    "    linewidth=0,\n",
    "    color=df.columns.map(n.carriers.color),\n",
    "    figsize=(4,4),\n",
    "    xlim=(0,150),\n",
    "    xlabel=\"Offshore Wind Potential [GW]\",\n",
    "    ylabel=\"System cost [bn€/a]\",\n",
    "    ylim=(0,100),\n",
    ")"
   ]
  },
  {
   "cell_type": "markdown",
   "metadata": {},
   "source": [
    "## Exercises"
   ]
  },
  {
   "cell_type": "markdown",
   "metadata": {},
   "source": [
    "Explore the model by changing the assumptions and available technologies. Here are a few inspirations:\n",
    "\n",
    "- Rerun the model with cost assumptions for 2050.\n",
    "- What if either hydrogen or battery storage cannot be expanded?\n",
    "- What if you can either only build solar or only build wind?\n",
    "- What if we had a flat electricity demand profile (like in [model.energy](https://model.energy), i.e. average the demand time series)?\n",
    "- Vary the energy-to-power ratio of the hydrogen storage. What ratio leads to lowest costs?\n",
    "- How bad is the 4-hourly resolution used for demonstration? How does it compare to hourly or 2-hourly resolution?\n",
    "- On [model.energy](https://model.energy), you can download capacity factors for onshore wind and solar for any region in the world. Drop offshore wind from the model and use the onshore wind and solar prices from another region of the world. Try a few. What changes?\n",
    "- Add nuclear as another dispatchable low-emission generation technology (similar to OCGT). Perform a sensitivity analysis trying to answer how low the capital cost of a nuclear plant would need to be to be chosen."
   ]
  },
  {
   "cell_type": "raw",
   "metadata": {},
   "source": []
  },
  {
   "cell_type": "code",
   "execution_count": null,
   "metadata": {},
   "outputs": [],
   "source": []
  }
 ],
 "metadata": {
  "kernelspec": {
   "display_name": "esm",
   "language": "python",
   "name": "python3"
  },
  "language_info": {
   "codemirror_mode": {
    "name": "ipython",
    "version": 3
   },
   "file_extension": ".py",
   "mimetype": "text/x-python",
   "name": "python",
   "nbconvert_exporter": "python",
   "pygments_lexer": "ipython3",
   "version": "3.11.5"
  }
 },
 "nbformat": 4,
 "nbformat_minor": 4
}
